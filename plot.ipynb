{
 "cells": [
  {
   "cell_type": "code",
   "execution_count": 92,
   "metadata": {},
   "outputs": [],
   "source": [
    "import numpy as numpy\n",
    "import pandas as pd\n",
    "import matplotlib.pyplot as plt\n",
    "import plotly\n",
    "import plotly.graph_objects as go\n",
    "import plotly.express as px \n",
    "from plotly.subplots import make_subplots\n",
    "import json\n",
    "import chart_studio\n",
    "import chart_studio.plotly as py"
   ]
  },
  {
   "cell_type": "code",
   "execution_count": 19,
   "metadata": {},
   "outputs": [
    {
     "output_type": "stream",
     "name": "stdout",
     "text": "user_id  book_id  rating\n15             4       18       5\n16             4       27       5\n17             4       21       5\n18             4        2       5\n19             4       23       5\n...          ...      ...     ...\n5976297    48801      189       5\n5976299    48801        1       5\n5976302    48801       17       5\n5976304    48801       20       5\n5976309    48801       39       5\n\n[553900 rows x 3 columns]\nbook  0\nbook  1\nbook  2\nbook  3\nbook  4\nbook  5\nbook  6\nbook  7\nbook  8\nbook  9\nbook  10\nbook  11\nbook  12\nbook  13\nbook  14\nbook  15\nbook  16\nbook  17\nbook  18\nbook  19\nbook  20\nbook  21\nbook  22\nbook  23\nbook  24\nbook  25\nbook  26\nbook  27\nbook  28\nbook  29\nbook  30\nbook  31\nbook  32\nbook  33\nbook  34\nbook  35\nbook  36\nbook  37\nbook  38\nbook  39\nbook  40\nbook  41\nbook  42\nbook  43\nbook  44\nbook  45\nbook  46\nbook  47\nbook  48\nbook  49\nbook  50\nbook  51\nbook  52\nbook  53\nbook  54\nbook  55\nbook  56\nbook  57\nbook  58\nbook  59\nbook  60\nbook  61\nbook  62\nbook  63\nbook  64\nbook  65\nbook  66\nbook  67\nbook  68\nbook  69\nbook  70\nbook  71\nbook  72\nbook  73\nbook  74\nbook  75\nbook  76\nbook  77\nbook  78\nbook  79\nbook  80\nbook  81\nbook  82\nbook  83\nbook  84\nbook  85\nbook  86\nbook  87\nbook  88\nbook  89\nbook  90\nbook  91\nbook  92\nbook  93\nbook  94\nbook  95\nbook  96\nbook  97\nbook  98\nbook  99\nbook  100\nbook  101\nbook  102\nbook  103\nbook  104\nbook  105\nbook  106\nbook  107\nbook  108\nbook  109\nbook  110\nbook  111\nbook  112\nbook  113\nbook  114\nbook  115\nbook  116\nbook  117\nbook  118\nbook  119\nbook  120\nbook  121\nbook  122\nbook  123\nbook  124\nbook  125\nbook  126\nbook  127\nbook  128\nbook  129\nbook  130\nbook  131\nbook  132\nbook  133\nbook  134\nbook  135\nbook  136\nbook  137\nbook  138\nbook  139\nbook  140\nbook  141\nbook  142\nbook  143\nbook  144\nbook  145\nbook  146\nbook  147\nbook  148\nbook  149\nbook  150\nbook  151\nbook  152\nbook  153\nbook  154\nbook  155\nbook  156\nbook  157\nbook  158\nbook  159\nbook  160\nbook  161\nbook  162\nbook  163\nbook  164\nbook  165\nbook  166\nbook  167\nbook  168\nbook  169\nbook  170\nbook  171\nbook  172\nbook  173\nbook  174\nbook  175\nbook  176\nbook  177\nbook  178\nbook  179\nbook  180\nbook  181\nbook  182\nbook  183\nbook  184\nbook  185\nbook  186\nbook  187\nbook  188\nbook  189\nbook  190\nbook  191\nbook  192\nbook  193\nbook  194\nbook  195\nbook  196\nbook  197\nbook  198\n"
    }
   ],
   "source": [
    "# Generate graph data for books sharing the same users who rate like both books\n",
    "import pandas as pd\n",
    "df = pd.read_csv(\"ratings.csv\")\n",
    "b = pd.read_csv(\"books.csv\")\n",
    "#b = b.sample(20)\n",
    "b = b[0:250]\n",
    "top_books = b['book_id'].to_list()\n",
    "#df = df[df['book_id'] in top_books]\n",
    "df = df[df['rating'].isin([5])]\n",
    "df = df[df['book_id'].isin(top_books)]\n",
    "print(df)\n",
    "books = {}\n",
    "book_list = []\n",
    "\n",
    "df = df.reset_index()\n",
    "for i in range(0,df.shape[0]):\n",
    "    book = df.loc[i,'book_id']\n",
    "    user = df.loc[i,'user_id']\n",
    "\n",
    "    if book not in books:\n",
    "        books[book] = []\n",
    "    books[book].append(user)\n",
    "\n",
    "for key, val in books.items():\n",
    "    book_list.append((key,val))\n",
    "\n",
    "ofile = open('out.csv',\"w+\")\n",
    "for i in range(0,len(book_list)-1):\n",
    "    print('book ', i)\n",
    "    for j in range(i+1,len(book_list)):\n",
    "        b1 = book_list[i][0]\n",
    "        b2 = book_list[j][0]\n",
    "        common_users = list(set(book_list[i][1]) & set(book_list[j][1]))\n",
    "        count = len(common_users)\n",
    "        if count > 1100:\n",
    "            line = str(b1) + ',' + str(b2) + '\\n'#+ ',' + str(count) + '\\n'\n",
    "            ofile.write(line)\n",
    "ofile.close()"
   ]
  },
  {
   "cell_type": "code",
   "execution_count": 39,
   "metadata": {},
   "outputs": [
    {
     "output_type": "display_data",
     "data": {
      "application/vnd.plotly.v1+json": {
       "config": {
        "plotlyServerURL": "https://plot.ly"
       },
       "data": [
        {
         "marker": {
          "color": "#7dcea0"
         },
         "orientation": "h",
         "showlegend": false,
         "type": "bar",
         "x": [
          4.14,
          4.24,
          4.26,
          4.24,
          3.85,
          3.79,
          4.25,
          4.26,
          3.89,
          4.25,
          3.57,
          4.44,
          4.34
         ],
         "y": [
          "1984",
          "Divergent",
          "The Kite Runner",
          "Pride and Prejudice",
          "Angels & Demons",
          "The Catcher in the Rye",
          "The Hobbit",
          "The Fault in Our Stars",
          "The Great Gatsby",
          "To Kill a Mockingbird",
          "Twilight",
          "Harry Potter and the Philosopher's Stone",
          "The Hunger Games"
         ]
        }
       ],
       "layout": {
        "annotations": [
         {
          "font": {
           "color": "white"
          },
          "showarrow": false,
          "text": "1949",
          "x": 2.450251256281407,
          "xanchor": "center",
          "y": "1984",
          "yanchor": "middle"
         },
         {
          "font": {
           "color": "white"
          },
          "showarrow": false,
          "text": "2011",
          "x": 3.3849246231155776,
          "xanchor": "center",
          "y": "Divergent",
          "yanchor": "middle"
         },
         {
          "font": {
           "color": "white"
          },
          "showarrow": false,
          "text": "2003",
          "x": 3.264321608040201,
          "xanchor": "center",
          "y": "The Kite Runner",
          "yanchor": "middle"
         },
         {
          "font": {
           "color": "white"
          },
          "showarrow": false,
          "text": "1813",
          "x": 0.4,
          "xanchor": "center",
          "y": "Pride and Prejudice",
          "yanchor": "middle"
         },
         {
          "font": {
           "color": "white"
          },
          "showarrow": false,
          "text": "2000",
          "x": 3.2190954773869342,
          "xanchor": "center",
          "y": "Angels & Demons",
          "yanchor": "middle"
         },
         {
          "font": {
           "color": "white"
          },
          "showarrow": false,
          "text": "1951",
          "x": 2.480402010050251,
          "xanchor": "center",
          "y": "The Catcher in the Rye",
          "yanchor": "middle"
         },
         {
          "font": {
           "color": "white"
          },
          "showarrow": false,
          "text": "1937",
          "x": 2.2693467336683417,
          "xanchor": "center",
          "y": "The Hobbit",
          "yanchor": "middle"
         },
         {
          "font": {
           "color": "white"
          },
          "showarrow": false,
          "text": "2012",
          "x": 3.4,
          "xanchor": "center",
          "y": "The Fault in Our Stars",
          "yanchor": "middle"
         },
         {
          "font": {
           "color": "white"
          },
          "showarrow": false,
          "text": "1925",
          "x": 2.0884422110552765,
          "xanchor": "center",
          "y": "The Great Gatsby",
          "yanchor": "middle"
         },
         {
          "font": {
           "color": "white"
          },
          "showarrow": false,
          "text": "1960",
          "x": 2.61608040201005,
          "xanchor": "center",
          "y": "To Kill a Mockingbird",
          "yanchor": "middle"
         },
         {
          "font": {
           "color": "white"
          },
          "showarrow": false,
          "text": "2005",
          "x": 3.2944723618090452,
          "xanchor": "center",
          "y": "Twilight",
          "yanchor": "middle"
         },
         {
          "font": {
           "color": "white"
          },
          "showarrow": false,
          "text": "1997",
          "x": 3.1738693467336683,
          "xanchor": "center",
          "y": "Harry Potter and the Philosopher's Stone",
          "yanchor": "middle"
         },
         {
          "font": {
           "color": "white"
          },
          "showarrow": false,
          "text": "2008",
          "x": 3.3396984924623117,
          "xanchor": "center",
          "y": "The Hunger Games",
          "yanchor": "middle"
         }
        ],
        "bargap": 0.2,
        "margin": {
         "l": 160
        },
        "plot_bgcolor": "#f4f6f6",
        "template": {
         "data": {
          "bar": [
           {
            "error_x": {
             "color": "#2a3f5f"
            },
            "error_y": {
             "color": "#2a3f5f"
            },
            "marker": {
             "line": {
              "color": "#E5ECF6",
              "width": 0.5
             }
            },
            "type": "bar"
           }
          ],
          "barpolar": [
           {
            "marker": {
             "line": {
              "color": "#E5ECF6",
              "width": 0.5
             }
            },
            "type": "barpolar"
           }
          ],
          "carpet": [
           {
            "aaxis": {
             "endlinecolor": "#2a3f5f",
             "gridcolor": "white",
             "linecolor": "white",
             "minorgridcolor": "white",
             "startlinecolor": "#2a3f5f"
            },
            "baxis": {
             "endlinecolor": "#2a3f5f",
             "gridcolor": "white",
             "linecolor": "white",
             "minorgridcolor": "white",
             "startlinecolor": "#2a3f5f"
            },
            "type": "carpet"
           }
          ],
          "choropleth": [
           {
            "colorbar": {
             "outlinewidth": 0,
             "ticks": ""
            },
            "type": "choropleth"
           }
          ],
          "contour": [
           {
            "colorbar": {
             "outlinewidth": 0,
             "ticks": ""
            },
            "colorscale": [
             [
              0,
              "#0d0887"
             ],
             [
              0.1111111111111111,
              "#46039f"
             ],
             [
              0.2222222222222222,
              "#7201a8"
             ],
             [
              0.3333333333333333,
              "#9c179e"
             ],
             [
              0.4444444444444444,
              "#bd3786"
             ],
             [
              0.5555555555555556,
              "#d8576b"
             ],
             [
              0.6666666666666666,
              "#ed7953"
             ],
             [
              0.7777777777777778,
              "#fb9f3a"
             ],
             [
              0.8888888888888888,
              "#fdca26"
             ],
             [
              1,
              "#f0f921"
             ]
            ],
            "type": "contour"
           }
          ],
          "contourcarpet": [
           {
            "colorbar": {
             "outlinewidth": 0,
             "ticks": ""
            },
            "type": "contourcarpet"
           }
          ],
          "heatmap": [
           {
            "colorbar": {
             "outlinewidth": 0,
             "ticks": ""
            },
            "colorscale": [
             [
              0,
              "#0d0887"
             ],
             [
              0.1111111111111111,
              "#46039f"
             ],
             [
              0.2222222222222222,
              "#7201a8"
             ],
             [
              0.3333333333333333,
              "#9c179e"
             ],
             [
              0.4444444444444444,
              "#bd3786"
             ],
             [
              0.5555555555555556,
              "#d8576b"
             ],
             [
              0.6666666666666666,
              "#ed7953"
             ],
             [
              0.7777777777777778,
              "#fb9f3a"
             ],
             [
              0.8888888888888888,
              "#fdca26"
             ],
             [
              1,
              "#f0f921"
             ]
            ],
            "type": "heatmap"
           }
          ],
          "heatmapgl": [
           {
            "colorbar": {
             "outlinewidth": 0,
             "ticks": ""
            },
            "colorscale": [
             [
              0,
              "#0d0887"
             ],
             [
              0.1111111111111111,
              "#46039f"
             ],
             [
              0.2222222222222222,
              "#7201a8"
             ],
             [
              0.3333333333333333,
              "#9c179e"
             ],
             [
              0.4444444444444444,
              "#bd3786"
             ],
             [
              0.5555555555555556,
              "#d8576b"
             ],
             [
              0.6666666666666666,
              "#ed7953"
             ],
             [
              0.7777777777777778,
              "#fb9f3a"
             ],
             [
              0.8888888888888888,
              "#fdca26"
             ],
             [
              1,
              "#f0f921"
             ]
            ],
            "type": "heatmapgl"
           }
          ],
          "histogram": [
           {
            "marker": {
             "colorbar": {
              "outlinewidth": 0,
              "ticks": ""
             }
            },
            "type": "histogram"
           }
          ],
          "histogram2d": [
           {
            "colorbar": {
             "outlinewidth": 0,
             "ticks": ""
            },
            "colorscale": [
             [
              0,
              "#0d0887"
             ],
             [
              0.1111111111111111,
              "#46039f"
             ],
             [
              0.2222222222222222,
              "#7201a8"
             ],
             [
              0.3333333333333333,
              "#9c179e"
             ],
             [
              0.4444444444444444,
              "#bd3786"
             ],
             [
              0.5555555555555556,
              "#d8576b"
             ],
             [
              0.6666666666666666,
              "#ed7953"
             ],
             [
              0.7777777777777778,
              "#fb9f3a"
             ],
             [
              0.8888888888888888,
              "#fdca26"
             ],
             [
              1,
              "#f0f921"
             ]
            ],
            "type": "histogram2d"
           }
          ],
          "histogram2dcontour": [
           {
            "colorbar": {
             "outlinewidth": 0,
             "ticks": ""
            },
            "colorscale": [
             [
              0,
              "#0d0887"
             ],
             [
              0.1111111111111111,
              "#46039f"
             ],
             [
              0.2222222222222222,
              "#7201a8"
             ],
             [
              0.3333333333333333,
              "#9c179e"
             ],
             [
              0.4444444444444444,
              "#bd3786"
             ],
             [
              0.5555555555555556,
              "#d8576b"
             ],
             [
              0.6666666666666666,
              "#ed7953"
             ],
             [
              0.7777777777777778,
              "#fb9f3a"
             ],
             [
              0.8888888888888888,
              "#fdca26"
             ],
             [
              1,
              "#f0f921"
             ]
            ],
            "type": "histogram2dcontour"
           }
          ],
          "mesh3d": [
           {
            "colorbar": {
             "outlinewidth": 0,
             "ticks": ""
            },
            "type": "mesh3d"
           }
          ],
          "parcoords": [
           {
            "line": {
             "colorbar": {
              "outlinewidth": 0,
              "ticks": ""
             }
            },
            "type": "parcoords"
           }
          ],
          "pie": [
           {
            "automargin": true,
            "type": "pie"
           }
          ],
          "scatter": [
           {
            "marker": {
             "colorbar": {
              "outlinewidth": 0,
              "ticks": ""
             }
            },
            "type": "scatter"
           }
          ],
          "scatter3d": [
           {
            "line": {
             "colorbar": {
              "outlinewidth": 0,
              "ticks": ""
             }
            },
            "marker": {
             "colorbar": {
              "outlinewidth": 0,
              "ticks": ""
             }
            },
            "type": "scatter3d"
           }
          ],
          "scattercarpet": [
           {
            "marker": {
             "colorbar": {
              "outlinewidth": 0,
              "ticks": ""
             }
            },
            "type": "scattercarpet"
           }
          ],
          "scattergeo": [
           {
            "marker": {
             "colorbar": {
              "outlinewidth": 0,
              "ticks": ""
             }
            },
            "type": "scattergeo"
           }
          ],
          "scattergl": [
           {
            "marker": {
             "colorbar": {
              "outlinewidth": 0,
              "ticks": ""
             }
            },
            "type": "scattergl"
           }
          ],
          "scattermapbox": [
           {
            "marker": {
             "colorbar": {
              "outlinewidth": 0,
              "ticks": ""
             }
            },
            "type": "scattermapbox"
           }
          ],
          "scatterpolar": [
           {
            "marker": {
             "colorbar": {
              "outlinewidth": 0,
              "ticks": ""
             }
            },
            "type": "scatterpolar"
           }
          ],
          "scatterpolargl": [
           {
            "marker": {
             "colorbar": {
              "outlinewidth": 0,
              "ticks": ""
             }
            },
            "type": "scatterpolargl"
           }
          ],
          "scatterternary": [
           {
            "marker": {
             "colorbar": {
              "outlinewidth": 0,
              "ticks": ""
             }
            },
            "type": "scatterternary"
           }
          ],
          "surface": [
           {
            "colorbar": {
             "outlinewidth": 0,
             "ticks": ""
            },
            "colorscale": [
             [
              0,
              "#0d0887"
             ],
             [
              0.1111111111111111,
              "#46039f"
             ],
             [
              0.2222222222222222,
              "#7201a8"
             ],
             [
              0.3333333333333333,
              "#9c179e"
             ],
             [
              0.4444444444444444,
              "#bd3786"
             ],
             [
              0.5555555555555556,
              "#d8576b"
             ],
             [
              0.6666666666666666,
              "#ed7953"
             ],
             [
              0.7777777777777778,
              "#fb9f3a"
             ],
             [
              0.8888888888888888,
              "#fdca26"
             ],
             [
              1,
              "#f0f921"
             ]
            ],
            "type": "surface"
           }
          ],
          "table": [
           {
            "cells": {
             "fill": {
              "color": "#EBF0F8"
             },
             "line": {
              "color": "white"
             }
            },
            "header": {
             "fill": {
              "color": "#C8D4E3"
             },
             "line": {
              "color": "white"
             }
            },
            "type": "table"
           }
          ]
         },
         "layout": {
          "annotationdefaults": {
           "arrowcolor": "#2a3f5f",
           "arrowhead": 0,
           "arrowwidth": 1
          },
          "coloraxis": {
           "colorbar": {
            "outlinewidth": 0,
            "ticks": ""
           }
          },
          "colorscale": {
           "diverging": [
            [
             0,
             "#8e0152"
            ],
            [
             0.1,
             "#c51b7d"
            ],
            [
             0.2,
             "#de77ae"
            ],
            [
             0.3,
             "#f1b6da"
            ],
            [
             0.4,
             "#fde0ef"
            ],
            [
             0.5,
             "#f7f7f7"
            ],
            [
             0.6,
             "#e6f5d0"
            ],
            [
             0.7,
             "#b8e186"
            ],
            [
             0.8,
             "#7fbc41"
            ],
            [
             0.9,
             "#4d9221"
            ],
            [
             1,
             "#276419"
            ]
           ],
           "sequential": [
            [
             0,
             "#0d0887"
            ],
            [
             0.1111111111111111,
             "#46039f"
            ],
            [
             0.2222222222222222,
             "#7201a8"
            ],
            [
             0.3333333333333333,
             "#9c179e"
            ],
            [
             0.4444444444444444,
             "#bd3786"
            ],
            [
             0.5555555555555556,
             "#d8576b"
            ],
            [
             0.6666666666666666,
             "#ed7953"
            ],
            [
             0.7777777777777778,
             "#fb9f3a"
            ],
            [
             0.8888888888888888,
             "#fdca26"
            ],
            [
             1,
             "#f0f921"
            ]
           ],
           "sequentialminus": [
            [
             0,
             "#0d0887"
            ],
            [
             0.1111111111111111,
             "#46039f"
            ],
            [
             0.2222222222222222,
             "#7201a8"
            ],
            [
             0.3333333333333333,
             "#9c179e"
            ],
            [
             0.4444444444444444,
             "#bd3786"
            ],
            [
             0.5555555555555556,
             "#d8576b"
            ],
            [
             0.6666666666666666,
             "#ed7953"
            ],
            [
             0.7777777777777778,
             "#fb9f3a"
            ],
            [
             0.8888888888888888,
             "#fdca26"
            ],
            [
             1,
             "#f0f921"
            ]
           ]
          },
          "colorway": [
           "#636efa",
           "#EF553B",
           "#00cc96",
           "#ab63fa",
           "#FFA15A",
           "#19d3f3",
           "#FF6692",
           "#B6E880",
           "#FF97FF",
           "#FECB52"
          ],
          "font": {
           "color": "#2a3f5f"
          },
          "geo": {
           "bgcolor": "white",
           "lakecolor": "white",
           "landcolor": "#E5ECF6",
           "showlakes": true,
           "showland": true,
           "subunitcolor": "white"
          },
          "hoverlabel": {
           "align": "left"
          },
          "hovermode": "closest",
          "mapbox": {
           "style": "light"
          },
          "paper_bgcolor": "white",
          "plot_bgcolor": "#E5ECF6",
          "polar": {
           "angularaxis": {
            "gridcolor": "white",
            "linecolor": "white",
            "ticks": ""
           },
           "bgcolor": "#E5ECF6",
           "radialaxis": {
            "gridcolor": "white",
            "linecolor": "white",
            "ticks": ""
           }
          },
          "scene": {
           "xaxis": {
            "backgroundcolor": "#E5ECF6",
            "gridcolor": "white",
            "gridwidth": 2,
            "linecolor": "white",
            "showbackground": true,
            "ticks": "",
            "zerolinecolor": "white"
           },
           "yaxis": {
            "backgroundcolor": "#E5ECF6",
            "gridcolor": "white",
            "gridwidth": 2,
            "linecolor": "white",
            "showbackground": true,
            "ticks": "",
            "zerolinecolor": "white"
           },
           "zaxis": {
            "backgroundcolor": "#E5ECF6",
            "gridcolor": "white",
            "gridwidth": 2,
            "linecolor": "white",
            "showbackground": true,
            "ticks": "",
            "zerolinecolor": "white"
           }
          },
          "shapedefaults": {
           "line": {
            "color": "#2a3f5f"
           }
          },
          "ternary": {
           "aaxis": {
            "gridcolor": "white",
            "linecolor": "white",
            "ticks": ""
           },
           "baxis": {
            "gridcolor": "white",
            "linecolor": "white",
            "ticks": ""
           },
           "bgcolor": "#E5ECF6",
           "caxis": {
            "gridcolor": "white",
            "linecolor": "white",
            "ticks": ""
           }
          },
          "title": {
           "x": 0.05
          },
          "xaxis": {
           "automargin": true,
           "gridcolor": "white",
           "linecolor": "white",
           "ticks": "",
           "title": {
            "standoff": 15
           },
           "zerolinecolor": "white",
           "zerolinewidth": 2
          },
          "yaxis": {
           "automargin": true,
           "gridcolor": "white",
           "linecolor": "white",
           "ticks": "",
           "title": {
            "standoff": 15
           },
           "zerolinecolor": "white",
           "zerolinewidth": 2
          }
         }
        },
        "title": {
         "text": "Most popular books on Goodreads"
        },
        "xaxis": {
         "fixedrange": true,
         "showgrid": false,
         "title": {
          "text": "Average ratings"
         },
         "visible": true
        },
        "yaxis": {
         "fixedrange": true,
         "nticks": 30,
         "title": {
          "text": ""
         }
        }
       }
      }
     },
     "metadata": {}
    },
    {
     "output_type": "execute_result",
     "data": {
      "text/plain": "'https://plotly.com/~tri.qu.nguyen/82/'"
     },
     "metadata": {},
     "execution_count": 39
    }
   ],
   "source": [
    "traces = []\n",
    "b = pd.read_csv(\"books.csv\")\n",
    "dfs = b[0:13][::-1]\n",
    "#dfs = dfs.sort_values('original_publication_year',axis=0,ascending=False)\n",
    "traces.append(\n",
    "    go.Bar(x=dfs['average_rating'], y=dfs['original_title'], orientation='h'\n",
    "                    , showlegend=False, marker= dict ( \n",
    "                        color= '#7dcea0'\n",
    "                    )\n",
    "    )\n",
    ")\n",
    "annotations = [\n",
    "    dict(\n",
    "        x= (l-1813)/(2012-1813)*3+0.4, \n",
    "        y=n,\n",
    "        text= str(int(l)), # Some conditional to define outliers\n",
    "        showarrow=False,\n",
    "        xanchor='center',  # Position of text relative to x axis (left/right/center)\n",
    "        yanchor='middle',  # Position of text relative to y axis (top/bottom/middle)\n",
    "        font={'color':'white'}\n",
    "    ) for n, l in zip(dfs['original_title'], dfs['original_publication_year'])\n",
    "]\n",
    "\n",
    "top_book_chart = go.Figure(data=traces,\n",
    "    layout={\n",
    "        'title':\"Most popular books on Goodreads\", \"yaxis_title\": \"\", \"xaxis_title\": \"Average ratings\",\n",
    "        \"xaxis\": { \"fixedrange\": True,'showgrid':False, 'visible': True\n",
    "            },\n",
    "        'yaxis': {\"fixedrange\": True,'nticks':30}, 'bargap': 0.2,\n",
    "        'annotations': annotations, 'margin': {'l':160},\n",
    "        'plot_bgcolor': '#f4f6f6'\n",
    "        \n",
    "    }\n",
    ")\n",
    "top_book_chart.show()\n",
    "py.plot(top_book_chart, filename = 'top_goodreads_books', auto_open=True)"
   ]
  },
  {
   "cell_type": "code",
   "execution_count": 226,
   "metadata": {},
   "outputs": [
    {
     "output_type": "display_data",
     "data": {
      "application/vnd.plotly.v1+json": {
       "config": {
        "plotlyServerURL": "https://plot.ly"
       },
       "data": [
        {
         "marker": {
          "color": "#7dcea0"
         },
         "orientation": "h",
         "showlegend": false,
         "type": "bar",
         "x": [
          1.9083269178464253,
          1.908987484485428,
          1.95321213,
          2.0150198687557714,
          2.041666666666667,
          2.164206349206349,
          2.2077160493827157,
          2.3364214350590378,
          2.3784655664126424
         ],
         "y": [
          "The Twilight Saga",
          "Twilight",
          "The Qur'an ",
          "Fifty Shades of Grey",
          "Fifty Shades Duo: Fifty Shades Darker/Freed",
          "Twilight: The Graphic Novel, Vol. 1",
          "The Zombie Room",
          "The Book of Mormon: Another Testament of Jesus Christ",
          "Book of Mormon, Doctrine and Covenants, Pearl of Great Price"
         ]
        }
       ],
       "layout": {
        "annotations": [
         {
          "font": {
           "color": "black"
          },
          "showarrow": false,
          "text": "The Twilight Saga",
          "x": 0.1,
          "xanchor": "left",
          "y": "The Twilight Saga",
          "yanchor": "middle"
         },
         {
          "font": {
           "color": "black"
          },
          "showarrow": false,
          "text": "Twilight",
          "x": 0.1,
          "xanchor": "left",
          "y": "Twilight",
          "yanchor": "middle"
         },
         {
          "font": {
           "color": "black"
          },
          "showarrow": false,
          "text": "The Qur'an ",
          "x": 0.1,
          "xanchor": "left",
          "y": "The Qur'an ",
          "yanchor": "middle"
         },
         {
          "font": {
           "color": "black"
          },
          "showarrow": false,
          "text": "Fifty Shades of Grey",
          "x": 0.1,
          "xanchor": "left",
          "y": "Fifty Shades of Grey",
          "yanchor": "middle"
         },
         {
          "font": {
           "color": "black"
          },
          "showarrow": false,
          "text": "Fifty Shades Duo: Fifty Shades Darker/Freed",
          "x": 0.1,
          "xanchor": "left",
          "y": "Fifty Shades Duo: Fifty Shades Darker/Freed",
          "yanchor": "middle"
         },
         {
          "font": {
           "color": "black"
          },
          "showarrow": false,
          "text": "Twilight: The Graphic Novel, Vol. 1",
          "x": 0.1,
          "xanchor": "left",
          "y": "Twilight: The Graphic Novel, Vol. 1",
          "yanchor": "middle"
         },
         {
          "font": {
           "color": "black"
          },
          "showarrow": false,
          "text": "The Zombie Room",
          "x": 0.1,
          "xanchor": "left",
          "y": "The Zombie Room",
          "yanchor": "middle"
         },
         {
          "font": {
           "color": "black"
          },
          "showarrow": false,
          "text": "The Book of Mormon: Another Testament of Jesus Christ",
          "x": 0.1,
          "xanchor": "left",
          "y": "The Book of Mormon: Another Testament of Jesus Christ",
          "yanchor": "middle"
         },
         {
          "font": {
           "color": "black"
          },
          "showarrow": false,
          "text": "Book of Mormon, Doctrine and Covenants, Pearl of Great Price",
          "x": 0.1,
          "xanchor": "left",
          "y": "Book of Mormon, Doctrine and Covenants, Pearl of Great Price",
          "yanchor": "middle"
         }
        ],
        "bargap": 0.2,
        "margin": {
         "l": 50
        },
        "plot_bgcolor": "#f4f6f6",
        "template": {
         "data": {
          "bar": [
           {
            "error_x": {
             "color": "#2a3f5f"
            },
            "error_y": {
             "color": "#2a3f5f"
            },
            "marker": {
             "line": {
              "color": "#E5ECF6",
              "width": 0.5
             }
            },
            "type": "bar"
           }
          ],
          "barpolar": [
           {
            "marker": {
             "line": {
              "color": "#E5ECF6",
              "width": 0.5
             }
            },
            "type": "barpolar"
           }
          ],
          "carpet": [
           {
            "aaxis": {
             "endlinecolor": "#2a3f5f",
             "gridcolor": "white",
             "linecolor": "white",
             "minorgridcolor": "white",
             "startlinecolor": "#2a3f5f"
            },
            "baxis": {
             "endlinecolor": "#2a3f5f",
             "gridcolor": "white",
             "linecolor": "white",
             "minorgridcolor": "white",
             "startlinecolor": "#2a3f5f"
            },
            "type": "carpet"
           }
          ],
          "choropleth": [
           {
            "colorbar": {
             "outlinewidth": 0,
             "ticks": ""
            },
            "type": "choropleth"
           }
          ],
          "contour": [
           {
            "colorbar": {
             "outlinewidth": 0,
             "ticks": ""
            },
            "colorscale": [
             [
              0,
              "#0d0887"
             ],
             [
              0.1111111111111111,
              "#46039f"
             ],
             [
              0.2222222222222222,
              "#7201a8"
             ],
             [
              0.3333333333333333,
              "#9c179e"
             ],
             [
              0.4444444444444444,
              "#bd3786"
             ],
             [
              0.5555555555555556,
              "#d8576b"
             ],
             [
              0.6666666666666666,
              "#ed7953"
             ],
             [
              0.7777777777777778,
              "#fb9f3a"
             ],
             [
              0.8888888888888888,
              "#fdca26"
             ],
             [
              1,
              "#f0f921"
             ]
            ],
            "type": "contour"
           }
          ],
          "contourcarpet": [
           {
            "colorbar": {
             "outlinewidth": 0,
             "ticks": ""
            },
            "type": "contourcarpet"
           }
          ],
          "heatmap": [
           {
            "colorbar": {
             "outlinewidth": 0,
             "ticks": ""
            },
            "colorscale": [
             [
              0,
              "#0d0887"
             ],
             [
              0.1111111111111111,
              "#46039f"
             ],
             [
              0.2222222222222222,
              "#7201a8"
             ],
             [
              0.3333333333333333,
              "#9c179e"
             ],
             [
              0.4444444444444444,
              "#bd3786"
             ],
             [
              0.5555555555555556,
              "#d8576b"
             ],
             [
              0.6666666666666666,
              "#ed7953"
             ],
             [
              0.7777777777777778,
              "#fb9f3a"
             ],
             [
              0.8888888888888888,
              "#fdca26"
             ],
             [
              1,
              "#f0f921"
             ]
            ],
            "type": "heatmap"
           }
          ],
          "heatmapgl": [
           {
            "colorbar": {
             "outlinewidth": 0,
             "ticks": ""
            },
            "colorscale": [
             [
              0,
              "#0d0887"
             ],
             [
              0.1111111111111111,
              "#46039f"
             ],
             [
              0.2222222222222222,
              "#7201a8"
             ],
             [
              0.3333333333333333,
              "#9c179e"
             ],
             [
              0.4444444444444444,
              "#bd3786"
             ],
             [
              0.5555555555555556,
              "#d8576b"
             ],
             [
              0.6666666666666666,
              "#ed7953"
             ],
             [
              0.7777777777777778,
              "#fb9f3a"
             ],
             [
              0.8888888888888888,
              "#fdca26"
             ],
             [
              1,
              "#f0f921"
             ]
            ],
            "type": "heatmapgl"
           }
          ],
          "histogram": [
           {
            "marker": {
             "colorbar": {
              "outlinewidth": 0,
              "ticks": ""
             }
            },
            "type": "histogram"
           }
          ],
          "histogram2d": [
           {
            "colorbar": {
             "outlinewidth": 0,
             "ticks": ""
            },
            "colorscale": [
             [
              0,
              "#0d0887"
             ],
             [
              0.1111111111111111,
              "#46039f"
             ],
             [
              0.2222222222222222,
              "#7201a8"
             ],
             [
              0.3333333333333333,
              "#9c179e"
             ],
             [
              0.4444444444444444,
              "#bd3786"
             ],
             [
              0.5555555555555556,
              "#d8576b"
             ],
             [
              0.6666666666666666,
              "#ed7953"
             ],
             [
              0.7777777777777778,
              "#fb9f3a"
             ],
             [
              0.8888888888888888,
              "#fdca26"
             ],
             [
              1,
              "#f0f921"
             ]
            ],
            "type": "histogram2d"
           }
          ],
          "histogram2dcontour": [
           {
            "colorbar": {
             "outlinewidth": 0,
             "ticks": ""
            },
            "colorscale": [
             [
              0,
              "#0d0887"
             ],
             [
              0.1111111111111111,
              "#46039f"
             ],
             [
              0.2222222222222222,
              "#7201a8"
             ],
             [
              0.3333333333333333,
              "#9c179e"
             ],
             [
              0.4444444444444444,
              "#bd3786"
             ],
             [
              0.5555555555555556,
              "#d8576b"
             ],
             [
              0.6666666666666666,
              "#ed7953"
             ],
             [
              0.7777777777777778,
              "#fb9f3a"
             ],
             [
              0.8888888888888888,
              "#fdca26"
             ],
             [
              1,
              "#f0f921"
             ]
            ],
            "type": "histogram2dcontour"
           }
          ],
          "mesh3d": [
           {
            "colorbar": {
             "outlinewidth": 0,
             "ticks": ""
            },
            "type": "mesh3d"
           }
          ],
          "parcoords": [
           {
            "line": {
             "colorbar": {
              "outlinewidth": 0,
              "ticks": ""
             }
            },
            "type": "parcoords"
           }
          ],
          "pie": [
           {
            "automargin": true,
            "type": "pie"
           }
          ],
          "scatter": [
           {
            "marker": {
             "colorbar": {
              "outlinewidth": 0,
              "ticks": ""
             }
            },
            "type": "scatter"
           }
          ],
          "scatter3d": [
           {
            "line": {
             "colorbar": {
              "outlinewidth": 0,
              "ticks": ""
             }
            },
            "marker": {
             "colorbar": {
              "outlinewidth": 0,
              "ticks": ""
             }
            },
            "type": "scatter3d"
           }
          ],
          "scattercarpet": [
           {
            "marker": {
             "colorbar": {
              "outlinewidth": 0,
              "ticks": ""
             }
            },
            "type": "scattercarpet"
           }
          ],
          "scattergeo": [
           {
            "marker": {
             "colorbar": {
              "outlinewidth": 0,
              "ticks": ""
             }
            },
            "type": "scattergeo"
           }
          ],
          "scattergl": [
           {
            "marker": {
             "colorbar": {
              "outlinewidth": 0,
              "ticks": ""
             }
            },
            "type": "scattergl"
           }
          ],
          "scattermapbox": [
           {
            "marker": {
             "colorbar": {
              "outlinewidth": 0,
              "ticks": ""
             }
            },
            "type": "scattermapbox"
           }
          ],
          "scatterpolar": [
           {
            "marker": {
             "colorbar": {
              "outlinewidth": 0,
              "ticks": ""
             }
            },
            "type": "scatterpolar"
           }
          ],
          "scatterpolargl": [
           {
            "marker": {
             "colorbar": {
              "outlinewidth": 0,
              "ticks": ""
             }
            },
            "type": "scatterpolargl"
           }
          ],
          "scatterternary": [
           {
            "marker": {
             "colorbar": {
              "outlinewidth": 0,
              "ticks": ""
             }
            },
            "type": "scatterternary"
           }
          ],
          "surface": [
           {
            "colorbar": {
             "outlinewidth": 0,
             "ticks": ""
            },
            "colorscale": [
             [
              0,
              "#0d0887"
             ],
             [
              0.1111111111111111,
              "#46039f"
             ],
             [
              0.2222222222222222,
              "#7201a8"
             ],
             [
              0.3333333333333333,
              "#9c179e"
             ],
             [
              0.4444444444444444,
              "#bd3786"
             ],
             [
              0.5555555555555556,
              "#d8576b"
             ],
             [
              0.6666666666666666,
              "#ed7953"
             ],
             [
              0.7777777777777778,
              "#fb9f3a"
             ],
             [
              0.8888888888888888,
              "#fdca26"
             ],
             [
              1,
              "#f0f921"
             ]
            ],
            "type": "surface"
           }
          ],
          "table": [
           {
            "cells": {
             "fill": {
              "color": "#EBF0F8"
             },
             "line": {
              "color": "white"
             }
            },
            "header": {
             "fill": {
              "color": "#C8D4E3"
             },
             "line": {
              "color": "white"
             }
            },
            "type": "table"
           }
          ]
         },
         "layout": {
          "annotationdefaults": {
           "arrowcolor": "#2a3f5f",
           "arrowhead": 0,
           "arrowwidth": 1
          },
          "coloraxis": {
           "colorbar": {
            "outlinewidth": 0,
            "ticks": ""
           }
          },
          "colorscale": {
           "diverging": [
            [
             0,
             "#8e0152"
            ],
            [
             0.1,
             "#c51b7d"
            ],
            [
             0.2,
             "#de77ae"
            ],
            [
             0.3,
             "#f1b6da"
            ],
            [
             0.4,
             "#fde0ef"
            ],
            [
             0.5,
             "#f7f7f7"
            ],
            [
             0.6,
             "#e6f5d0"
            ],
            [
             0.7,
             "#b8e186"
            ],
            [
             0.8,
             "#7fbc41"
            ],
            [
             0.9,
             "#4d9221"
            ],
            [
             1,
             "#276419"
            ]
           ],
           "sequential": [
            [
             0,
             "#0d0887"
            ],
            [
             0.1111111111111111,
             "#46039f"
            ],
            [
             0.2222222222222222,
             "#7201a8"
            ],
            [
             0.3333333333333333,
             "#9c179e"
            ],
            [
             0.4444444444444444,
             "#bd3786"
            ],
            [
             0.5555555555555556,
             "#d8576b"
            ],
            [
             0.6666666666666666,
             "#ed7953"
            ],
            [
             0.7777777777777778,
             "#fb9f3a"
            ],
            [
             0.8888888888888888,
             "#fdca26"
            ],
            [
             1,
             "#f0f921"
            ]
           ],
           "sequentialminus": [
            [
             0,
             "#0d0887"
            ],
            [
             0.1111111111111111,
             "#46039f"
            ],
            [
             0.2222222222222222,
             "#7201a8"
            ],
            [
             0.3333333333333333,
             "#9c179e"
            ],
            [
             0.4444444444444444,
             "#bd3786"
            ],
            [
             0.5555555555555556,
             "#d8576b"
            ],
            [
             0.6666666666666666,
             "#ed7953"
            ],
            [
             0.7777777777777778,
             "#fb9f3a"
            ],
            [
             0.8888888888888888,
             "#fdca26"
            ],
            [
             1,
             "#f0f921"
            ]
           ]
          },
          "colorway": [
           "#636efa",
           "#EF553B",
           "#00cc96",
           "#ab63fa",
           "#FFA15A",
           "#19d3f3",
           "#FF6692",
           "#B6E880",
           "#FF97FF",
           "#FECB52"
          ],
          "font": {
           "color": "#2a3f5f"
          },
          "geo": {
           "bgcolor": "white",
           "lakecolor": "white",
           "landcolor": "#E5ECF6",
           "showlakes": true,
           "showland": true,
           "subunitcolor": "white"
          },
          "hoverlabel": {
           "align": "left"
          },
          "hovermode": "closest",
          "mapbox": {
           "style": "light"
          },
          "paper_bgcolor": "white",
          "plot_bgcolor": "#E5ECF6",
          "polar": {
           "angularaxis": {
            "gridcolor": "white",
            "linecolor": "white",
            "ticks": ""
           },
           "bgcolor": "#E5ECF6",
           "radialaxis": {
            "gridcolor": "white",
            "linecolor": "white",
            "ticks": ""
           }
          },
          "scene": {
           "xaxis": {
            "backgroundcolor": "#E5ECF6",
            "gridcolor": "white",
            "gridwidth": 2,
            "linecolor": "white",
            "showbackground": true,
            "ticks": "",
            "zerolinecolor": "white"
           },
           "yaxis": {
            "backgroundcolor": "#E5ECF6",
            "gridcolor": "white",
            "gridwidth": 2,
            "linecolor": "white",
            "showbackground": true,
            "ticks": "",
            "zerolinecolor": "white"
           },
           "zaxis": {
            "backgroundcolor": "#E5ECF6",
            "gridcolor": "white",
            "gridwidth": 2,
            "linecolor": "white",
            "showbackground": true,
            "ticks": "",
            "zerolinecolor": "white"
           }
          },
          "shapedefaults": {
           "line": {
            "color": "#2a3f5f"
           }
          },
          "ternary": {
           "aaxis": {
            "gridcolor": "white",
            "linecolor": "white",
            "ticks": ""
           },
           "baxis": {
            "gridcolor": "white",
            "linecolor": "white",
            "ticks": ""
           },
           "bgcolor": "#E5ECF6",
           "caxis": {
            "gridcolor": "white",
            "linecolor": "white",
            "ticks": ""
           }
          },
          "title": {
           "x": 0.05
          },
          "xaxis": {
           "automargin": true,
           "gridcolor": "white",
           "linecolor": "white",
           "ticks": "",
           "title": {
            "standoff": 15
           },
           "zerolinecolor": "white",
           "zerolinewidth": 2
          },
          "yaxis": {
           "automargin": true,
           "gridcolor": "white",
           "linecolor": "white",
           "ticks": "",
           "title": {
            "standoff": 15
           },
           "zerolinecolor": "white",
           "zerolinewidth": 2
          }
         }
        },
        "title": {
         "text": "Most controversial books"
        },
        "xaxis": {
         "fixedrange": true,
         "showgrid": false,
         "title": {
          "text": "Variance"
         },
         "visible": true
        },
        "yaxis": {
         "fixedrange": true,
         "title": {
          "text": ""
         },
         "visible": false
        }
       }
      }
     },
     "metadata": {}
    },
    {
     "output_type": "execute_result",
     "data": {
      "text/plain": "'https://plotly.com/~tri.qu.nguyen/84/'"
     },
     "metadata": {},
     "execution_count": 226
    }
   ],
   "source": [
    "traces = []\n",
    "b = pd.read_csv(\"outputfiles/controversials.csv\")\n",
    "dfs = b[0:10][::-1]\n",
    "#dfs = dfs.sort_values('original_publication_year',axis=0,ascending=False)\n",
    "traces.append(\n",
    "    go.Bar(x=dfs['variance'], y=dfs['title'], orientation='h'\n",
    "                    , showlegend=False, marker= dict ( \n",
    "                        color='#7dcea0'\n",
    "                    )\n",
    "    )\n",
    ")\n",
    "annotations = [\n",
    "    dict(\n",
    "        x= 0.1, \n",
    "        y=n,\n",
    "        text= n, # Some conditional to define outliers\n",
    "        showarrow=False,\n",
    "        xanchor='left',  # Position of text relative to x axis (left/right/center)\n",
    "        yanchor='middle',  # Position of text relative to y axis (top/bottom/middle)\n",
    "        font={'color':'black'}\n",
    "    ) for n, l in zip(dfs['title'], dfs['variance'])\n",
    "]\n",
    "\n",
    "control_chart = go.Figure(data=traces,\n",
    "    layout={\n",
    "        'title':\"Most controversial books\", \"yaxis_title\": \"\", \"xaxis_title\": \"Variance\",\n",
    "        \"xaxis\": { \"fixedrange\": True, 'showgrid':False, 'visible': True\n",
    "            },\n",
    "        'yaxis': {\"fixedrange\": True,'visible':False}, 'bargap': 0.2,\n",
    "        'annotations': annotations, 'margin': {'l':50},\n",
    "        'plot_bgcolor': '#f4f6f6'\n",
    "        \n",
    "    }\n",
    ")\n",
    "control_chart.show()\n",
    "py.plot(control_chart, filename = 'top_controlversial_books', auto_open=True)"
   ]
  },
  {
   "cell_type": "code",
   "execution_count": 36,
   "metadata": {},
   "outputs": [
    {
     "output_type": "stream",
     "name": "stdout",
     "text": "(345, 2)\n"
    }
   ],
   "source": [
    "import plotly.graph_objects as go\n",
    "import networkx as nx\n",
    "df = pd.read_csv(\"out.csv\", names=['a','b'])\n",
    "print(df.shape)\n",
    "A = list(df[\"a\"].unique())\n",
    "B = list(df[\"b\"].unique())\n",
    "node_list = list(set(A+B))\n",
    "G = nx.Graph()\n",
    "for i in node_list:\n",
    "    G.add_node(i)\n",
    "for i,j in df.iterrows():\n",
    "    G.add_edges_from([(j[\"a\"],j[\"b\"])])\n",
    "\n",
    "pos = nx.spring_layout(G, k=0.8, iterations=15000)\n",
    "for n, p in pos.items():\n",
    "    G.nodes[n]['pos'] = p"
   ]
  },
  {
   "cell_type": "code",
   "execution_count": 104,
   "metadata": {},
   "outputs": [],
   "source": [
    "books = pd.read_csv(\"books.csv\")\n",
    "books = books.set_index('book_id')"
   ]
  },
  {
   "cell_type": "code",
   "execution_count": 105,
   "metadata": {},
   "outputs": [
    {
     "output_type": "stream",
     "name": "stdout",
     "text": "To Kill a Mockingbird\n1984\n"
    }
   ],
   "source": [
    "edge_trace = go.Scatter(\n",
    "    x=[],\n",
    "    y=[],\n",
    "    line=dict(width=0.8,color='#888'),\n",
    "    hoverinfo='none',\n",
    "    mode='lines')\n",
    "\n",
    "for edge in G.edges():\n",
    "    x0, y0 = G.nodes[edge[0]]['pos']\n",
    "    x1, y1 = G.nodes[edge[1]]['pos']\n",
    "    edge_trace['x'] += tuple([x0, x1, None])\n",
    "    edge_trace['y'] += tuple([y0, y1, None])\n",
    "\n",
    "node_trace = go.Scatter(\n",
    "    x=[],\n",
    "    y=[],\n",
    "    text=[],\n",
    "    mode='markers',\n",
    "    name=\"\",\n",
    "    hovertemplate = '%{text}',\n",
    "    marker=dict(\n",
    "        showscale=False,\n",
    "        colorscale='RdBu',\n",
    "        reversescale=True,\n",
    "        color='#7dcea0',\n",
    "        size=13,\n",
    "        line=dict(width=1,color=\"black\")))\n",
    "\n",
    "node_trace2 = go.Scatter(\n",
    "    x=[],\n",
    "    y=[],\n",
    "    text=[],\n",
    "    mode='markers',\n",
    "    name=\"\",\n",
    "    hovertemplate = '%{text}',\n",
    "    marker=dict(\n",
    "        showscale=False,\n",
    "        colorscale='RdBu',\n",
    "        reversescale=True,\n",
    "        color='#196f3d',\n",
    "        size=14,\n",
    "        line=dict(width=1)))\n",
    "\n",
    "node_trace3 = go.Scatter(\n",
    "    x=[],\n",
    "    y=[],\n",
    "    text=[],\n",
    "    mode='markers',\n",
    "    name=\"\",\n",
    "    hovertemplate = '%{text}',\n",
    "    marker=dict(\n",
    "        showscale=False,\n",
    "        colorscale='RdBu',\n",
    "        reversescale=True,\n",
    "        color='#D7DF01',\n",
    "        size=18,\n",
    "        line=dict(width=1)))\n",
    "\n",
    "annotations = []\n",
    "\n",
    "shown_titles = ['Emma','Life of Pi','Gone Girl','Romeo and Juliet','The Princess Bride','A Game of Thrones']\n",
    "\n",
    "\n",
    "shown_titles = ['Jane Eyre','Pride and Prejudice',\"Harry Potter and the Philosopher's Stone\",'The Hunger Games', 'The Hobbit','The Two Towers','A Game of Thrones','The Great Gatsby','Twilight','A Clash of Kings','1984','Animal Farm',' The Fellowship of the Ring','To Kill a Mockingbird','The Kite Runner']\n",
    "\n",
    "shown_titles = ['1984','Fahrenheit 451','To Kill a Mockingbird','Romeo and Juliet','Life of Pi','The Grapes of Wrath', 'Wuthering Heights', 'The Secret Garden']\n",
    "\n",
    "classics = ['1984','To Kill a Mockingbird']\n",
    "def return_title(title):\n",
    "    if 'Harry Potter' in title:\n",
    "        return 'Harry Potter'\n",
    "    return title\n",
    "\n",
    "for node in G.nodes():\n",
    "    x, y = G.nodes[node]['pos']\n",
    "    title = books.loc[node,'original_title']\n",
    "    author = books.loc[node,'authors']\n",
    "    if \"Harry Potter\" in title:\n",
    "        node_trace2['x'] += tuple([x])\n",
    "        node_trace2['y'] += tuple([y])\n",
    "        node_trace2['text'] += tuple(['Title: ' + title+ '<br>' + 'Author: '+author ])\n",
    "    elif title in classics:\n",
    "        print(title)\n",
    "        node_trace3['x'] += tuple([x])\n",
    "        node_trace3['y'] += tuple([y])\n",
    "        node_trace3['text'] += tuple(['Title: ' + title+ '<br>' + 'Author: '+author ])\n",
    "    else:\n",
    "        node_trace['x'] += tuple([x])\n",
    "        node_trace['y'] += tuple([y])\n",
    "        node_trace['text'] += tuple(['Title: ' + title+ '<br>' + 'Author: '+author])        \n",
    "    annotations.append(\n",
    "        dict(\n",
    "             x=x, \n",
    "             y=y+0.06,\n",
    "             text= return_title(title)if title in shown_titles else '',\n",
    "        showarrow=False,\n",
    "        font={'size':13},\n",
    "        textangle = -15,\n",
    "        xanchor='center',  # Position of text relative to x axis (left/right/center)\n",
    "        yanchor='middle',  # Position of text relative to y axis (top/bottom/middle)\n",
    "        )\n",
    "    )\n",
    "    "
   ]
  },
  {
   "cell_type": "code",
   "execution_count": 106,
   "metadata": {},
   "outputs": [
    {
     "output_type": "display_data",
     "data": {
      "application/vnd.plotly.v1+json": {
       "config": {
        "plotlyServerURL": "https://plot.ly"
       },
       "data": [
        {
         "hoverinfo": "none",
         "line": {
          "color": "#888",
          "width": 0.8
         },
         "mode": "lines",
         "type": "scatter",
         "x": [
          -0.07642640409952631,
          0.02388504879092701,
          null,
          -0.07642640409952631,
          0.07713390009930697,
          null,
          -0.07642640409952631,
          0.057845524719240524,
          null,
          -0.07642640409952631,
          -0.00037117648862197445,
          null,
          -0.07642640409952631,
          0.13198133416599903,
          null,
          -0.07642640409952631,
          0.05256760105408139,
          null,
          -0.07642640409952631,
          -0.0875193205641148,
          null,
          -0.07642640409952631,
          0.26293580746202083,
          null,
          -0.07642640409952631,
          -0.004360366360028896,
          null,
          -0.07642640409952631,
          0.23325069137508778,
          null,
          -0.07642640409952631,
          0.045092409213863836,
          null,
          -0.07642640409952631,
          -0.07842692385931378,
          null,
          -0.07642640409952631,
          0.1885308685858897,
          null,
          -0.07642640409952631,
          -0.23113715353354522,
          null,
          -0.07642640409952631,
          -0.1957193486718383,
          null,
          -0.07642640409952631,
          0.14268637566915857,
          null,
          -0.07642640409952631,
          -0.25261828501854494,
          null,
          -0.07642640409952631,
          0.35062315704267877,
          null,
          -0.07642640409952631,
          -0.09335146210807906,
          null,
          -0.07642640409952631,
          0.1426961198909959,
          null,
          -0.07642640409952631,
          0.2568093519284019,
          null,
          -0.07642640409952631,
          0.26912531488267943,
          null,
          -0.07642640409952631,
          -0.031569070391977504,
          null,
          -0.07642640409952631,
          -0.0558178696594567,
          null,
          -0.07642640409952631,
          -0.007765787231910051,
          null,
          -0.07642640409952631,
          0.2428488533889219,
          null,
          -0.07642640409952631,
          -0.166760508985854,
          null,
          -0.07642640409952631,
          -0.038675758321033524,
          null,
          -0.07642640409952631,
          -0.13837646086356653,
          null,
          -0.07642640409952631,
          0.06077786690269442,
          null,
          -0.07642640409952631,
          0.10633064667826185,
          null,
          -0.07642640409952631,
          -0.6256110099842556,
          null,
          -0.07642640409952631,
          -0.5759625974807412,
          null,
          -0.07642640409952631,
          -0.2695450078330951,
          null,
          -0.07642640409952631,
          -0.21561253891064272,
          null,
          -0.07642640409952631,
          0.11140598880316538,
          null,
          -0.07642640409952631,
          -0.025240215169157167,
          null,
          -0.07642640409952631,
          0.03499143331777275,
          null,
          -0.07642640409952631,
          -0.04110306799926525,
          null,
          -0.07642640409952631,
          -0.24867801553662225,
          null,
          -0.07642640409952631,
          0.10535485245528371,
          null,
          -0.07642640409952631,
          -0.49031434847788696,
          null,
          -0.00037117648862197445,
          0.02388504879092701,
          null,
          -0.00037117648862197445,
          0.07713390009930697,
          null,
          -0.00037117648862197445,
          0.057845524719240524,
          null,
          -0.00037117648862197445,
          0.13198133416599903,
          null,
          -0.00037117648862197445,
          0.05256760105408139,
          null,
          -0.00037117648862197445,
          0.03525176708680959,
          null,
          -0.00037117648862197445,
          -0.0875193205641148,
          null,
          -0.00037117648862197445,
          -0.39610763351683254,
          null,
          -0.00037117648862197445,
          0.26293580746202083,
          null,
          -0.00037117648862197445,
          -0.004360366360028896,
          null,
          -0.00037117648862197445,
          0.23325069137508778,
          null,
          -0.00037117648862197445,
          -0.021825020391859084,
          null,
          -0.00037117648862197445,
          0.045092409213863836,
          null,
          -0.00037117648862197445,
          -0.07842692385931378,
          null,
          -0.00037117648862197445,
          0.1885308685858897,
          null,
          -0.00037117648862197445,
          -0.23113715353354522,
          null,
          -0.00037117648862197445,
          -0.1957193486718383,
          null,
          -0.00037117648862197445,
          0.14268637566915857,
          null,
          -0.00037117648862197445,
          -0.25261828501854494,
          null,
          -0.00037117648862197445,
          0.35062315704267877,
          null,
          -0.00037117648862197445,
          -0.12606058967990627,
          null,
          -0.00037117648862197445,
          -0.49407922847673663,
          null,
          -0.00037117648862197445,
          -0.27646867222940374,
          null,
          -0.00037117648862197445,
          -0.09335146210807906,
          null,
          -0.00037117648862197445,
          0.1426961198909959,
          null,
          -0.00037117648862197445,
          0.3589330672188293,
          null,
          -0.00037117648862197445,
          0.2568093519284019,
          null,
          -0.00037117648862197445,
          0.07934263882110947,
          null,
          -0.00037117648862197445,
          0.26912531488267943,
          null,
          -0.00037117648862197445,
          -0.031569070391977504,
          null,
          -0.00037117648862197445,
          0.448120294085944,
          null,
          -0.00037117648862197445,
          -0.0558178696594567,
          null,
          -0.00037117648862197445,
          -0.007765787231910051,
          null,
          -0.00037117648862197445,
          -0.12385949527377021,
          null,
          -0.00037117648862197445,
          0.2624745047555421,
          null,
          -0.00037117648862197445,
          0.2428488533889219,
          null,
          -0.00037117648862197445,
          -0.038675758321033524,
          null,
          -0.00037117648862197445,
          -0.13837646086356653,
          null,
          -0.00037117648862197445,
          0.06077786690269442,
          null,
          -0.00037117648862197445,
          0.1095632306474681,
          null,
          -0.00037117648862197445,
          0.10633064667826185,
          null,
          -0.00037117648862197445,
          -0.5759625974807412,
          null,
          -0.00037117648862197445,
          -0.21561253891064272,
          null,
          -0.00037117648862197445,
          0.11140598880316538,
          null,
          -0.00037117648862197445,
          -0.025240215169157167,
          null,
          -0.00037117648862197445,
          0.03499143331777275,
          null,
          -0.00037117648862197445,
          -0.04110306799926525,
          null,
          -0.00037117648862197445,
          0.10535485245528371,
          null,
          -0.13837646086356653,
          0.02388504879092701,
          null,
          -0.13837646086356653,
          0.05256760105408139,
          null,
          -0.13837646086356653,
          -0.007765787231910051,
          null,
          -0.13837646086356653,
          -0.33580751627307864,
          null,
          -0.13837646086356653,
          -0.24757817593279782,
          null,
          -0.13837646086356653,
          -0.2695450078330951,
          null,
          -0.13837646086356653,
          -0.025240215169157167,
          null,
          0.14268637566915857,
          0.02388504879092701,
          null,
          0.14268637566915857,
          0.07713390009930697,
          null,
          0.14268637566915857,
          0.057845524719240524,
          null,
          0.14268637566915857,
          0.13198133416599903,
          null,
          0.14268637566915857,
          0.05256760105408139,
          null,
          0.14268637566915857,
          0.03525176708680959,
          null,
          0.14268637566915857,
          -0.0875193205641148,
          null,
          0.14268637566915857,
          0.536719477105632,
          null,
          0.14268637566915857,
          0.26293580746202083,
          null,
          0.14268637566915857,
          -0.004360366360028896,
          null,
          0.14268637566915857,
          0.23325069137508778,
          null,
          0.14268637566915857,
          -0.021825020391859084,
          null,
          0.14268637566915857,
          0.045092409213863836,
          null,
          0.14268637566915857,
          -0.0013320929949994353,
          null,
          0.14268637566915857,
          -0.07842692385931378,
          null,
          0.14268637566915857,
          -0.09119965089593711,
          null,
          0.14268637566915857,
          0.1885308685858897,
          null,
          0.14268637566915857,
          -0.23113715353354522,
          null,
          0.14268637566915857,
          -0.1957193486718383,
          null,
          0.14268637566915857,
          0.3523158805167194,
          null,
          0.14268637566915857,
          0.3944104450986563,
          null,
          0.14268637566915857,
          0.35062315704267877,
          null,
          0.14268637566915857,
          0.16134349352897168,
          null,
          0.14268637566915857,
          0.25828715872274743,
          null,
          0.14268637566915857,
          0.06294007393676232,
          null,
          0.14268637566915857,
          0.5940516118670763,
          null,
          0.14268637566915857,
          -0.09335146210807906,
          null,
          0.14268637566915857,
          0.1426961198909959,
          null,
          0.14268637566915857,
          0.3589330672188293,
          null,
          0.14268637566915857,
          0.2568093519284019,
          null,
          0.14268637566915857,
          0.39398992930022286,
          null,
          0.14268637566915857,
          0.48475650416947286,
          null,
          0.14268637566915857,
          -0.031569070391977504,
          null,
          0.14268637566915857,
          -0.0558178696594567,
          null,
          0.14268637566915857,
          -0.007765787231910051,
          null,
          0.14268637566915857,
          -0.12385949527377021,
          null,
          0.14268637566915857,
          0.2428488533889219,
          null,
          0.14268637566915857,
          0.5023365689011997,
          null,
          0.14268637566915857,
          0.06077786690269442,
          null,
          0.14268637566915857,
          0.2362440002710098,
          null,
          0.14268637566915857,
          0.10633064667826185,
          null,
          0.14268637566915857,
          -0.21561253891064272,
          null,
          0.14268637566915857,
          0.11140598880316538,
          null,
          0.14268637566915857,
          -0.025240215169157167,
          null,
          -0.004360366360028896,
          0.23325069137508778,
          null,
          -0.004360366360028896,
          -0.021825020391859084,
          null,
          -0.004360366360028896,
          -0.09335146210807906,
          null,
          0.10535485245528371,
          0.02388504879092701,
          null,
          0.10535485245528371,
          0.07713390009930697,
          null,
          0.10535485245528371,
          0.057845524719240524,
          null,
          0.10535485245528371,
          0.13198133416599903,
          null,
          0.10535485245528371,
          0.05256760105408139,
          null,
          0.10535485245528371,
          -0.007765787231910051,
          null,
          0.10535485245528371,
          0.10633064667826185,
          null,
          0.10535485245528371,
          -0.025240215169157167,
          null,
          0.10535485245528371,
          -0.04110306799926525,
          null,
          -0.031569070391977504,
          0.02388504879092701,
          null,
          -0.031569070391977504,
          0.07713390009930697,
          null,
          -0.031569070391977504,
          0.057845524719240524,
          null,
          -0.031569070391977504,
          0.13198133416599903,
          null,
          -0.031569070391977504,
          0.05256760105408139,
          null,
          -0.031569070391977504,
          0.03525176708680959,
          null,
          -0.031569070391977504,
          0.23325069137508778,
          null,
          -0.031569070391977504,
          -0.25261828501854494,
          null,
          -0.031569070391977504,
          -0.12606058967990627,
          null,
          -0.031569070391977504,
          -0.27646867222940374,
          null,
          -0.031569070391977504,
          -0.09335146210807906,
          null,
          -0.031569070391977504,
          0.1426961198909959,
          null,
          -0.031569070391977504,
          0.2568093519284019,
          null,
          -0.031569070391977504,
          -0.323522116393621,
          null,
          -0.031569070391977504,
          -0.0558178696594567,
          null,
          -0.031569070391977504,
          -0.1668081963544985,
          null,
          -0.031569070391977504,
          -0.007765787231910051,
          null,
          -0.021825020391859084,
          -0.09335146210807906,
          null,
          -0.038675758321033524,
          0.07934263882110947,
          null,
          0.23325069137508778,
          0.02388504879092701,
          null,
          0.23325069137508778,
          0.07713390009930697,
          null,
          0.23325069137508778,
          0.057845524719240524,
          null,
          0.23325069137508778,
          0.13198133416599903,
          null,
          0.23325069137508778,
          0.05256760105408139,
          null,
          0.23325069137508778,
          0.26293580746202083,
          null,
          0.23325069137508778,
          0.045092409213863836,
          null,
          0.23325069137508778,
          0.6296290452729134,
          null,
          0.23325069137508778,
          0.720515650305721,
          null,
          0.23325069137508778,
          0.1885308685858897,
          null,
          0.23325069137508778,
          0.35062315704267877,
          null,
          0.23325069137508778,
          0.1426961198909959,
          null,
          0.23325069137508778,
          -0.0558178696594567,
          null,
          0.23325069137508778,
          -0.007765787231910051,
          null,
          0.23325069137508778,
          0.2428488533889219,
          null,
          0.23325069137508778,
          0.5023365689011997,
          null,
          0.23325069137508778,
          0.11140598880316538,
          null,
          0.045092409213863836,
          -0.07842692385931378,
          null,
          0.045092409213863836,
          -0.007765787231910051,
          null,
          0.045092409213863836,
          0.06077786690269442,
          null,
          0.045092409213863836,
          0.2362440002710098,
          null,
          0.045092409213863836,
          0.10633064667826185,
          null,
          0.045092409213863836,
          -0.21561253891064272,
          null,
          0.045092409213863836,
          0.11140598880316538,
          null,
          -0.04110306799926525,
          0.02388504879092701,
          null,
          -0.04110306799926525,
          0.07713390009930697,
          null,
          -0.04110306799926525,
          0.057845524719240524,
          null,
          -0.04110306799926525,
          0.13198133416599903,
          null,
          -0.04110306799926525,
          0.05256760105408139,
          null,
          -0.04110306799926525,
          -0.007765787231910051,
          null,
          -0.04110306799926525,
          -0.025240215169157167,
          null,
          -0.04110306799926525,
          0.03499143331777275,
          null,
          -0.04110306799926525,
          -0.24867801553662225,
          null,
          -0.09335146210807906,
          0.03525176708680959,
          null,
          -0.09335146210807906,
          -0.3168581027076012,
          null,
          -0.09335146210807906,
          -0.0013320929949994353,
          null,
          -0.09335146210807906,
          -0.09119965089593711,
          null,
          -0.09335146210807906,
          0.06294007393676232,
          null,
          -0.09335146210807906,
          -0.27646867222940374,
          null,
          -0.09335146210807906,
          -0.0558178696594567,
          null,
          -0.09335146210807906,
          -0.007765787231910051,
          null,
          0.03525176708680959,
          0.06294007393676232,
          null,
          0.2428488533889219,
          0.26293580746202083,
          null,
          0.2428488533889219,
          0.11140598880316538,
          null,
          -0.21561253891064272,
          -0.007765787231910051,
          null,
          -0.21561253891064272,
          0.11140598880316538,
          null,
          -0.21561253891064272,
          -0.6015331386339466,
          null,
          -0.21561253891064272,
          -0.5393186592812484,
          null,
          -0.025240215169157167,
          0.02388504879092701,
          null,
          -0.025240215169157167,
          0.07713390009930697,
          null,
          -0.025240215169157167,
          0.057845524719240524,
          null,
          -0.025240215169157167,
          0.13198133416599903,
          null,
          -0.025240215169157167,
          0.05256760105408139,
          null,
          -0.025240215169157167,
          -0.007765787231910051,
          null,
          -0.025240215169157167,
          0.11140598880316538,
          null,
          -0.025240215169157167,
          0.03499143331777275,
          null,
          -0.025240215169157167,
          -0.24867801553662225,
          null,
          0.02388504879092701,
          0.07713390009930697,
          null,
          0.02388504879092701,
          0.057845524719240524,
          null,
          0.02388504879092701,
          0.13198133416599903,
          null,
          0.02388504879092701,
          0.05256760105408139,
          null,
          0.02388504879092701,
          -0.0875193205641148,
          null,
          0.02388504879092701,
          -0.12606058967990627,
          null,
          0.02388504879092701,
          0.1426961198909959,
          null,
          0.02388504879092701,
          0.2568093519284019,
          null,
          0.02388504879092701,
          0.07934263882110947,
          null,
          0.02388504879092701,
          -0.0558178696594567,
          null,
          0.02388504879092701,
          -0.1668081963544985,
          null,
          0.02388504879092701,
          -0.007765787231910051,
          null,
          0.02388504879092701,
          0.10633064667826185,
          null,
          0.02388504879092701,
          0.11140598880316538,
          null,
          0.02388504879092701,
          0.03499143331777275,
          null,
          -0.0558178696594567,
          0.07713390009930697,
          null,
          -0.0558178696594567,
          0.057845524719240524,
          null,
          -0.0558178696594567,
          0.13198133416599903,
          null,
          -0.0558178696594567,
          0.05256760105408139,
          null,
          -0.0558178696594567,
          -0.25261828501854494,
          null,
          -0.0558178696594567,
          -0.12606058967990627,
          null,
          -0.0558178696594567,
          -0.27646867222940374,
          null,
          -0.0558178696594567,
          0.1426961198909959,
          null,
          -0.0558178696594567,
          0.2568093519284019,
          null,
          -0.0558178696594567,
          -0.323522116393621,
          null,
          -0.0558178696594567,
          -0.1668081963544985,
          null,
          -0.0558178696594567,
          -0.007765787231910051,
          null,
          0.03499143331777275,
          0.07713390009930697,
          null,
          0.03499143331777275,
          0.057845524719240524,
          null,
          0.03499143331777275,
          0.13198133416599903,
          null,
          0.03499143331777275,
          0.05256760105408139,
          null,
          0.03499143331777275,
          -0.007765787231910051,
          null,
          0.057845524719240524,
          0.07713390009930697,
          null,
          0.057845524719240524,
          0.13198133416599903,
          null,
          0.057845524719240524,
          0.05256760105408139,
          null,
          0.057845524719240524,
          -0.0875193205641148,
          null,
          0.057845524719240524,
          -0.12606058967990627,
          null,
          0.057845524719240524,
          0.1426961198909959,
          null,
          0.057845524719240524,
          0.2568093519284019,
          null,
          0.057845524719240524,
          -0.1668081963544985,
          null,
          0.057845524719240524,
          -0.007765787231910051,
          null,
          0.057845524719240524,
          0.10633064667826185,
          null,
          0.057845524719240524,
          0.11140598880316538,
          null,
          0.13198133416599903,
          0.07713390009930697,
          null,
          0.13198133416599903,
          0.05256760105408139,
          null,
          0.13198133416599903,
          0.1426961198909959,
          null,
          0.13198133416599903,
          0.2568093519284019,
          null,
          0.13198133416599903,
          -0.007765787231910051,
          null,
          0.13198133416599903,
          0.11140598880316538,
          null,
          0.05256760105408139,
          0.07713390009930697,
          null,
          0.05256760105408139,
          -0.0875193205641148,
          null,
          0.05256760105408139,
          -0.12606058967990627,
          null,
          0.05256760105408139,
          0.1426961198909959,
          null,
          0.05256760105408139,
          0.2568093519284019,
          null,
          0.05256760105408139,
          0.07934263882110947,
          null,
          0.05256760105408139,
          -0.1668081963544985,
          null,
          0.05256760105408139,
          -0.007765787231910051,
          null,
          0.05256760105408139,
          0.10633064667826185,
          null,
          0.05256760105408139,
          0.11140598880316538,
          null,
          -0.007765787231910051,
          0.07713390009930697,
          null,
          -0.007765787231910051,
          -0.0875193205641148,
          null,
          -0.007765787231910051,
          -0.25261828501854494,
          null,
          -0.007765787231910051,
          -0.12606058967990627,
          null,
          -0.007765787231910051,
          0.1426961198909959,
          null,
          -0.007765787231910051,
          0.2568093519284019,
          null,
          -0.007765787231910051,
          0.07934263882110947,
          null,
          -0.007765787231910051,
          -0.1668081963544985,
          null,
          -0.007765787231910051,
          0.10633064667826185,
          null,
          -0.007765787231910051,
          0.11140598880316538,
          null,
          0.07934263882110947,
          0.07713390009930697,
          null,
          0.07713390009930697,
          -0.0875193205641148,
          null,
          0.07713390009930697,
          -0.12606058967990627,
          null,
          0.07713390009930697,
          0.1426961198909959,
          null,
          0.07713390009930697,
          0.2568093519284019,
          null,
          0.07713390009930697,
          -0.1668081963544985,
          null,
          0.07713390009930697,
          0.10633064667826185,
          null,
          0.07713390009930697,
          0.11140598880316538,
          null,
          0.11140598880316538,
          0.26293580746202083,
          null,
          0.11140598880316538,
          -0.07842692385931378,
          null,
          0.11140598880316538,
          0.1885308685858897,
          null,
          0.11140598880316538,
          0.39398992930022286,
          null,
          0.11140598880316538,
          0.26912531488267943,
          null,
          0.11140598880316538,
          0.06077786690269442,
          null,
          0.11140598880316538,
          0.2362440002710098,
          null,
          0.11140598880316538,
          0.10633064667826185,
          null,
          0.2568093519284019,
          0.641491991582833,
          null,
          0.2568093519284019,
          0.5611490193728517,
          null,
          0.2568093519284019,
          0.6110388945796411,
          null,
          0.2568093519284019,
          0.5239168730563594,
          null,
          -0.5759625974807412,
          -0.9902536988225905,
          null,
          -0.5759625974807412,
          -1,
          null,
          0.26293580746202083,
          0.1885308685858897,
          null,
          0.26293580746202083,
          0.35062315704267877,
          null,
          0.35062315704267877,
          0.6296290452729134,
          null,
          0.35062315704267877,
          0.5023365689011997,
          null,
          -0.33580751627307864,
          -0.24757817593279782,
          null,
          -0.33580751627307864,
          -0.2695450078330951,
          null,
          -0.1957193486718383,
          -0.39610763351683254,
          null,
          -0.1957193486718383,
          -0.23113715353354522,
          null,
          -0.6256110099842556,
          -0.8930680164012345,
          null,
          -0.6256110099842556,
          -0.9590525648217835,
          null,
          -0.24757817593279782,
          -0.2695450078330951,
          null,
          -0.27646867222940374,
          -0.25261828501854494,
          null,
          -0.23113715353354522,
          -0.39610763351683254,
          null,
          -0.6015331386339466,
          -0.5393186592812484,
          null,
          0.5611490193728517,
          0.641491991582833,
          null,
          0.5611490193728517,
          0.6110388945796411,
          null,
          0.5611490193728517,
          0.5239168730563594,
          null,
          -0.9590525648217835,
          -0.8930680164012345,
          null,
          0.641491991582833,
          0.6110388945796411,
          null,
          0.641491991582833,
          0.5239168730563594,
          null,
          -0.1668081963544985,
          -0.12606058967990627,
          null,
          -0.1668081963544985,
          -0.323522116393621,
          null,
          -0.9902536988225905,
          -1,
          null,
          -0.12606058967990627,
          -0.323522116393621,
          null,
          0.6110388945796411,
          0.5239168730563594,
          null
         ],
         "y": [
          -0.09729991573399713,
          -0.1250622529139188,
          null,
          -0.09729991573399713,
          -0.10816573187750635,
          null,
          -0.09729991573399713,
          -0.0719945545834168,
          null,
          -0.09729991573399713,
          -0.00916650196337682,
          null,
          -0.09729991573399713,
          -0.10302931179564322,
          null,
          -0.09729991573399713,
          -0.14455191309653442,
          null,
          -0.09729991573399713,
          0.03805377153495921,
          null,
          -0.09729991573399713,
          0.06448861402593875,
          null,
          -0.09729991573399713,
          0.2218509079459609,
          null,
          -0.09729991573399713,
          0.01045857279262822,
          null,
          -0.09729991573399713,
          0.1625202135427787,
          null,
          -0.09729991573399713,
          0.18176566013839843,
          null,
          -0.09729991573399713,
          0.14299473498765378,
          null,
          -0.09729991573399713,
          0.15532111867975548,
          null,
          -0.09729991573399713,
          0.1977554039888987,
          null,
          -0.09729991573399713,
          0.2467337524356995,
          null,
          -0.09729991573399713,
          -0.03679646008057977,
          null,
          -0.09729991573399713,
          0.03967552821551319,
          null,
          -0.09729991573399713,
          0.3058383092728161,
          null,
          -0.09729991573399713,
          -0.029410520153771807,
          null,
          -0.09729991573399713,
          -0.2434257949765216,
          null,
          -0.09729991573399713,
          -0.13698314794900338,
          null,
          -0.09729991573399713,
          0.02254828337031559,
          null,
          -0.09729991573399713,
          -0.026289445483150365,
          null,
          -0.09729991573399713,
          -0.05866756380707601,
          null,
          -0.09729991573399713,
          0.12021702723444928,
          null,
          -0.09729991573399713,
          -0.5732138264943044,
          null,
          -0.09729991573399713,
          -0.40569144508230137,
          null,
          -0.09729991573399713,
          -0.39491601501404006,
          null,
          -0.09729991573399713,
          0.22922835761431404,
          null,
          -0.09729991573399713,
          0.00931386249202173,
          null,
          -0.09729991573399713,
          -0.5638766879913547,
          null,
          -0.09729991573399713,
          -0.11001440641169005,
          null,
          -0.09729991573399713,
          -0.5760421196545373,
          null,
          -0.09729991573399713,
          0.2677838866769527,
          null,
          -0.09729991573399713,
          0.08930029693353167,
          null,
          -0.09729991573399713,
          -0.17034534846091587,
          null,
          -0.09729991573399713,
          -0.25739246280277783,
          null,
          -0.09729991573399713,
          -0.2570414426002507,
          null,
          -0.09729991573399713,
          -0.3712148889712605,
          null,
          -0.09729991573399713,
          -0.2201701180477426,
          null,
          -0.09729991573399713,
          -0.3302323819829339,
          null,
          -0.00916650196337682,
          -0.1250622529139188,
          null,
          -0.00916650196337682,
          -0.10816573187750635,
          null,
          -0.00916650196337682,
          -0.0719945545834168,
          null,
          -0.00916650196337682,
          -0.10302931179564322,
          null,
          -0.00916650196337682,
          -0.14455191309653442,
          null,
          -0.00916650196337682,
          0.35202506160195224,
          null,
          -0.00916650196337682,
          0.03805377153495921,
          null,
          -0.00916650196337682,
          0.20671851094190186,
          null,
          -0.00916650196337682,
          0.06448861402593875,
          null,
          -0.00916650196337682,
          0.2218509079459609,
          null,
          -0.00916650196337682,
          0.01045857279262822,
          null,
          -0.00916650196337682,
          0.40219153300284005,
          null,
          -0.00916650196337682,
          0.1625202135427787,
          null,
          -0.00916650196337682,
          0.18176566013839843,
          null,
          -0.00916650196337682,
          0.14299473498765378,
          null,
          -0.00916650196337682,
          0.15532111867975548,
          null,
          -0.00916650196337682,
          0.1977554039888987,
          null,
          -0.00916650196337682,
          0.2467337524356995,
          null,
          -0.00916650196337682,
          -0.03679646008057977,
          null,
          -0.00916650196337682,
          0.03967552821551319,
          null,
          -0.00916650196337682,
          -0.1797029403577436,
          null,
          -0.00916650196337682,
          0.04062900409443971,
          null,
          -0.00916650196337682,
          0.09021053436471806,
          null,
          -0.00916650196337682,
          0.3058383092728161,
          null,
          -0.00916650196337682,
          -0.029410520153771807,
          null,
          -0.00916650196337682,
          0.24713598001549866,
          null,
          -0.00916650196337682,
          -0.2434257949765216,
          null,
          -0.00916650196337682,
          -0.3240115434335479,
          null,
          -0.00916650196337682,
          -0.13698314794900338,
          null,
          -0.00916650196337682,
          0.02254828337031559,
          null,
          -0.00916650196337682,
          -0.23307525535482596,
          null,
          -0.00916650196337682,
          -0.026289445483150365,
          null,
          -0.00916650196337682,
          -0.05866756380707601,
          null,
          -0.00916650196337682,
          0.4110745047150717,
          null,
          -0.00916650196337682,
          -0.44000645112149434,
          null,
          -0.00916650196337682,
          0.12021702723444928,
          null,
          -0.00916650196337682,
          -0.40569144508230137,
          null,
          -0.00916650196337682,
          -0.39491601501404006,
          null,
          -0.00916650196337682,
          0.22922835761431404,
          null,
          -0.00916650196337682,
          -0.5139930168574429,
          null,
          -0.00916650196337682,
          0.00931386249202173,
          null,
          -0.00916650196337682,
          -0.11001440641169005,
          null,
          -0.00916650196337682,
          0.2677838866769527,
          null,
          -0.00916650196337682,
          0.08930029693353167,
          null,
          -0.00916650196337682,
          -0.17034534846091587,
          null,
          -0.00916650196337682,
          -0.25739246280277783,
          null,
          -0.00916650196337682,
          -0.2570414426002507,
          null,
          -0.00916650196337682,
          -0.2201701180477426,
          null,
          -0.39491601501404006,
          -0.1250622529139188,
          null,
          -0.39491601501404006,
          -0.14455191309653442,
          null,
          -0.39491601501404006,
          -0.05866756380707601,
          null,
          -0.39491601501404006,
          -0.7679586412478485,
          null,
          -0.39491601501404006,
          -0.7978064616306565,
          null,
          -0.39491601501404006,
          -0.5760421196545373,
          null,
          -0.39491601501404006,
          -0.17034534846091587,
          null,
          0.2467337524356995,
          -0.1250622529139188,
          null,
          0.2467337524356995,
          -0.10816573187750635,
          null,
          0.2467337524356995,
          -0.0719945545834168,
          null,
          0.2467337524356995,
          -0.10302931179564322,
          null,
          0.2467337524356995,
          -0.14455191309653442,
          null,
          0.2467337524356995,
          0.35202506160195224,
          null,
          0.2467337524356995,
          0.03805377153495921,
          null,
          0.2467337524356995,
          0.5337071120129944,
          null,
          0.2467337524356995,
          0.06448861402593875,
          null,
          0.2467337524356995,
          0.2218509079459609,
          null,
          0.2467337524356995,
          0.01045857279262822,
          null,
          0.2467337524356995,
          0.40219153300284005,
          null,
          0.2467337524356995,
          0.1625202135427787,
          null,
          0.2467337524356995,
          0.6252677396496563,
          null,
          0.2467337524356995,
          0.18176566013839843,
          null,
          0.2467337524356995,
          0.5988411187438178,
          null,
          0.2467337524356995,
          0.14299473498765378,
          null,
          0.2467337524356995,
          0.15532111867975548,
          null,
          0.2467337524356995,
          0.1977554039888987,
          null,
          0.2467337524356995,
          0.7079403710602998,
          null,
          0.2467337524356995,
          0.6285772616843226,
          null,
          0.2467337524356995,
          0.03967552821551319,
          null,
          0.2467337524356995,
          0.7440253072438623,
          null,
          0.2467337524356995,
          0.7140487326794728,
          null,
          0.2467337524356995,
          0.5586578811634914,
          null,
          0.2467337524356995,
          0.4430794592862195,
          null,
          0.2467337524356995,
          0.3058383092728161,
          null,
          0.2467337524356995,
          -0.029410520153771807,
          null,
          0.2467337524356995,
          0.24713598001549866,
          null,
          0.2467337524356995,
          -0.2434257949765216,
          null,
          0.2467337524356995,
          0.3689894308596295,
          null,
          0.2467337524356995,
          0.6161179917819962,
          null,
          0.2467337524356995,
          0.02254828337031559,
          null,
          0.2467337524356995,
          -0.026289445483150365,
          null,
          0.2467337524356995,
          -0.05866756380707601,
          null,
          0.2467337524356995,
          0.4110745047150717,
          null,
          0.2467337524356995,
          0.12021702723444928,
          null,
          0.2467337524356995,
          0.177845419190083,
          null,
          0.2467337524356995,
          0.22922835761431404,
          null,
          0.2467337524356995,
          0.3934426075917922,
          null,
          0.2467337524356995,
          0.00931386249202173,
          null,
          0.2467337524356995,
          0.2677838866769527,
          null,
          0.2467337524356995,
          0.08930029693353167,
          null,
          0.2467337524356995,
          -0.17034534846091587,
          null,
          0.2218509079459609,
          0.01045857279262822,
          null,
          0.2218509079459609,
          0.40219153300284005,
          null,
          0.2218509079459609,
          0.3058383092728161,
          null,
          -0.2201701180477426,
          -0.1250622529139188,
          null,
          -0.2201701180477426,
          -0.10816573187750635,
          null,
          -0.2201701180477426,
          -0.0719945545834168,
          null,
          -0.2201701180477426,
          -0.10302931179564322,
          null,
          -0.2201701180477426,
          -0.14455191309653442,
          null,
          -0.2201701180477426,
          -0.05866756380707601,
          null,
          -0.2201701180477426,
          0.00931386249202173,
          null,
          -0.2201701180477426,
          -0.17034534846091587,
          null,
          -0.2201701180477426,
          -0.2570414426002507,
          null,
          0.02254828337031559,
          -0.1250622529139188,
          null,
          0.02254828337031559,
          -0.10816573187750635,
          null,
          0.02254828337031559,
          -0.0719945545834168,
          null,
          0.02254828337031559,
          -0.10302931179564322,
          null,
          0.02254828337031559,
          -0.14455191309653442,
          null,
          0.02254828337031559,
          0.35202506160195224,
          null,
          0.02254828337031559,
          0.01045857279262822,
          null,
          0.02254828337031559,
          -0.03679646008057977,
          null,
          0.02254828337031559,
          -0.1797029403577436,
          null,
          0.02254828337031559,
          0.09021053436471806,
          null,
          0.02254828337031559,
          0.3058383092728161,
          null,
          0.02254828337031559,
          -0.029410520153771807,
          null,
          0.02254828337031559,
          -0.2434257949765216,
          null,
          0.02254828337031559,
          -0.15000277677060964,
          null,
          0.02254828337031559,
          -0.026289445483150365,
          null,
          0.02254828337031559,
          -0.14591237115220657,
          null,
          0.02254828337031559,
          -0.05866756380707601,
          null,
          0.40219153300284005,
          0.3058383092728161,
          null,
          -0.40569144508230137,
          -0.3240115434335479,
          null,
          0.01045857279262822,
          -0.1250622529139188,
          null,
          0.01045857279262822,
          -0.10816573187750635,
          null,
          0.01045857279262822,
          -0.0719945545834168,
          null,
          0.01045857279262822,
          -0.10302931179564322,
          null,
          0.01045857279262822,
          -0.14455191309653442,
          null,
          0.01045857279262822,
          0.06448861402593875,
          null,
          0.01045857279262822,
          0.1625202135427787,
          null,
          0.01045857279262822,
          0.02617333582651731,
          null,
          0.01045857279262822,
          -0.06360437604354235,
          null,
          0.01045857279262822,
          0.14299473498765378,
          null,
          0.01045857279262822,
          0.03967552821551319,
          null,
          0.01045857279262822,
          -0.029410520153771807,
          null,
          0.01045857279262822,
          -0.026289445483150365,
          null,
          0.01045857279262822,
          -0.05866756380707601,
          null,
          0.01045857279262822,
          0.12021702723444928,
          null,
          0.01045857279262822,
          0.177845419190083,
          null,
          0.01045857279262822,
          0.08930029693353167,
          null,
          0.1625202135427787,
          0.18176566013839843,
          null,
          0.1625202135427787,
          -0.05866756380707601,
          null,
          0.1625202135427787,
          0.22922835761431404,
          null,
          0.1625202135427787,
          0.3934426075917922,
          null,
          0.1625202135427787,
          0.00931386249202173,
          null,
          0.1625202135427787,
          0.2677838866769527,
          null,
          0.1625202135427787,
          0.08930029693353167,
          null,
          -0.2570414426002507,
          -0.1250622529139188,
          null,
          -0.2570414426002507,
          -0.10816573187750635,
          null,
          -0.2570414426002507,
          -0.0719945545834168,
          null,
          -0.2570414426002507,
          -0.10302931179564322,
          null,
          -0.2570414426002507,
          -0.14455191309653442,
          null,
          -0.2570414426002507,
          -0.05866756380707601,
          null,
          -0.2570414426002507,
          -0.17034534846091587,
          null,
          -0.2570414426002507,
          -0.25739246280277783,
          null,
          -0.2570414426002507,
          -0.3712148889712605,
          null,
          0.3058383092728161,
          0.35202506160195224,
          null,
          0.3058383092728161,
          0.7257981973347862,
          null,
          0.3058383092728161,
          0.6252677396496563,
          null,
          0.3058383092728161,
          0.5988411187438178,
          null,
          0.3058383092728161,
          0.5586578811634914,
          null,
          0.3058383092728161,
          0.09021053436471806,
          null,
          0.3058383092728161,
          -0.026289445483150365,
          null,
          0.3058383092728161,
          -0.05866756380707601,
          null,
          0.35202506160195224,
          0.5586578811634914,
          null,
          0.12021702723444928,
          0.06448861402593875,
          null,
          0.12021702723444928,
          0.08930029693353167,
          null,
          0.2677838866769527,
          -0.05866756380707601,
          null,
          0.2677838866769527,
          0.08930029693353167,
          null,
          0.2677838866769527,
          0.5202821697743562,
          null,
          0.2677838866769527,
          0.5987864631582395,
          null,
          -0.17034534846091587,
          -0.1250622529139188,
          null,
          -0.17034534846091587,
          -0.10816573187750635,
          null,
          -0.17034534846091587,
          -0.0719945545834168,
          null,
          -0.17034534846091587,
          -0.10302931179564322,
          null,
          -0.17034534846091587,
          -0.14455191309653442,
          null,
          -0.17034534846091587,
          -0.05866756380707601,
          null,
          -0.17034534846091587,
          0.08930029693353167,
          null,
          -0.17034534846091587,
          -0.25739246280277783,
          null,
          -0.17034534846091587,
          -0.3712148889712605,
          null,
          -0.1250622529139188,
          -0.10816573187750635,
          null,
          -0.1250622529139188,
          -0.0719945545834168,
          null,
          -0.1250622529139188,
          -0.10302931179564322,
          null,
          -0.1250622529139188,
          -0.14455191309653442,
          null,
          -0.1250622529139188,
          0.03805377153495921,
          null,
          -0.1250622529139188,
          -0.1797029403577436,
          null,
          -0.1250622529139188,
          -0.029410520153771807,
          null,
          -0.1250622529139188,
          -0.2434257949765216,
          null,
          -0.1250622529139188,
          -0.3240115434335479,
          null,
          -0.1250622529139188,
          -0.026289445483150365,
          null,
          -0.1250622529139188,
          -0.14591237115220657,
          null,
          -0.1250622529139188,
          -0.05866756380707601,
          null,
          -0.1250622529139188,
          0.00931386249202173,
          null,
          -0.1250622529139188,
          0.08930029693353167,
          null,
          -0.1250622529139188,
          -0.25739246280277783,
          null,
          -0.026289445483150365,
          -0.10816573187750635,
          null,
          -0.026289445483150365,
          -0.0719945545834168,
          null,
          -0.026289445483150365,
          -0.10302931179564322,
          null,
          -0.026289445483150365,
          -0.14455191309653442,
          null,
          -0.026289445483150365,
          -0.03679646008057977,
          null,
          -0.026289445483150365,
          -0.1797029403577436,
          null,
          -0.026289445483150365,
          0.09021053436471806,
          null,
          -0.026289445483150365,
          -0.029410520153771807,
          null,
          -0.026289445483150365,
          -0.2434257949765216,
          null,
          -0.026289445483150365,
          -0.15000277677060964,
          null,
          -0.026289445483150365,
          -0.14591237115220657,
          null,
          -0.026289445483150365,
          -0.05866756380707601,
          null,
          -0.25739246280277783,
          -0.10816573187750635,
          null,
          -0.25739246280277783,
          -0.0719945545834168,
          null,
          -0.25739246280277783,
          -0.10302931179564322,
          null,
          -0.25739246280277783,
          -0.14455191309653442,
          null,
          -0.25739246280277783,
          -0.05866756380707601,
          null,
          -0.0719945545834168,
          -0.10816573187750635,
          null,
          -0.0719945545834168,
          -0.10302931179564322,
          null,
          -0.0719945545834168,
          -0.14455191309653442,
          null,
          -0.0719945545834168,
          0.03805377153495921,
          null,
          -0.0719945545834168,
          -0.1797029403577436,
          null,
          -0.0719945545834168,
          -0.029410520153771807,
          null,
          -0.0719945545834168,
          -0.2434257949765216,
          null,
          -0.0719945545834168,
          -0.14591237115220657,
          null,
          -0.0719945545834168,
          -0.05866756380707601,
          null,
          -0.0719945545834168,
          0.00931386249202173,
          null,
          -0.0719945545834168,
          0.08930029693353167,
          null,
          -0.10302931179564322,
          -0.10816573187750635,
          null,
          -0.10302931179564322,
          -0.14455191309653442,
          null,
          -0.10302931179564322,
          -0.029410520153771807,
          null,
          -0.10302931179564322,
          -0.2434257949765216,
          null,
          -0.10302931179564322,
          -0.05866756380707601,
          null,
          -0.10302931179564322,
          0.08930029693353167,
          null,
          -0.14455191309653442,
          -0.10816573187750635,
          null,
          -0.14455191309653442,
          0.03805377153495921,
          null,
          -0.14455191309653442,
          -0.1797029403577436,
          null,
          -0.14455191309653442,
          -0.029410520153771807,
          null,
          -0.14455191309653442,
          -0.2434257949765216,
          null,
          -0.14455191309653442,
          -0.3240115434335479,
          null,
          -0.14455191309653442,
          -0.14591237115220657,
          null,
          -0.14455191309653442,
          -0.05866756380707601,
          null,
          -0.14455191309653442,
          0.00931386249202173,
          null,
          -0.14455191309653442,
          0.08930029693353167,
          null,
          -0.05866756380707601,
          -0.10816573187750635,
          null,
          -0.05866756380707601,
          0.03805377153495921,
          null,
          -0.05866756380707601,
          -0.03679646008057977,
          null,
          -0.05866756380707601,
          -0.1797029403577436,
          null,
          -0.05866756380707601,
          -0.029410520153771807,
          null,
          -0.05866756380707601,
          -0.2434257949765216,
          null,
          -0.05866756380707601,
          -0.3240115434335479,
          null,
          -0.05866756380707601,
          -0.14591237115220657,
          null,
          -0.05866756380707601,
          0.00931386249202173,
          null,
          -0.05866756380707601,
          0.08930029693353167,
          null,
          -0.3240115434335479,
          -0.10816573187750635,
          null,
          -0.10816573187750635,
          0.03805377153495921,
          null,
          -0.10816573187750635,
          -0.1797029403577436,
          null,
          -0.10816573187750635,
          -0.029410520153771807,
          null,
          -0.10816573187750635,
          -0.2434257949765216,
          null,
          -0.10816573187750635,
          -0.14591237115220657,
          null,
          -0.10816573187750635,
          0.00931386249202173,
          null,
          -0.10816573187750635,
          0.08930029693353167,
          null,
          0.08930029693353167,
          0.06448861402593875,
          null,
          0.08930029693353167,
          0.18176566013839843,
          null,
          0.08930029693353167,
          0.14299473498765378,
          null,
          0.08930029693353167,
          0.3689894308596295,
          null,
          0.08930029693353167,
          -0.13698314794900338,
          null,
          0.08930029693353167,
          0.22922835761431404,
          null,
          0.08930029693353167,
          0.3934426075917922,
          null,
          0.08930029693353167,
          0.00931386249202173,
          null,
          -0.2434257949765216,
          -0.502900391801795,
          null,
          -0.2434257949765216,
          -0.5369640656580443,
          null,
          -0.2434257949765216,
          -0.592937987606794,
          null,
          -0.2434257949765216,
          -0.6205855875105788,
          null,
          -0.11001440641169005,
          -0.19672618788308338,
          null,
          -0.11001440641169005,
          -0.09663643790232214,
          null,
          0.06448861402593875,
          0.14299473498765378,
          null,
          0.06448861402593875,
          0.03967552821551319,
          null,
          0.03967552821551319,
          0.02617333582651731,
          null,
          0.03967552821551319,
          0.177845419190083,
          null,
          -0.7679586412478485,
          -0.7978064616306565,
          null,
          -0.7679586412478485,
          -0.5760421196545373,
          null,
          0.1977554039888987,
          0.20671851094190186,
          null,
          0.1977554039888987,
          0.15532111867975548,
          null,
          -0.5638766879913547,
          -0.8651367514210146,
          null,
          -0.5638766879913547,
          -0.7884585279783857,
          null,
          -0.7978064616306565,
          -0.5760421196545373,
          null,
          0.09021053436471806,
          -0.03679646008057977,
          null,
          0.15532111867975548,
          0.20671851094190186,
          null,
          0.5202821697743562,
          0.5987864631582395,
          null,
          -0.5369640656580443,
          -0.502900391801795,
          null,
          -0.5369640656580443,
          -0.592937987606794,
          null,
          -0.5369640656580443,
          -0.6205855875105788,
          null,
          -0.7884585279783857,
          -0.8651367514210146,
          null,
          -0.502900391801795,
          -0.592937987606794,
          null,
          -0.502900391801795,
          -0.6205855875105788,
          null,
          -0.14591237115220657,
          -0.1797029403577436,
          null,
          -0.14591237115220657,
          -0.15000277677060964,
          null,
          -0.19672618788308338,
          -0.09663643790232214,
          null,
          -0.1797029403577436,
          -0.15000277677060964,
          null,
          -0.592937987606794,
          -0.6205855875105788,
          null
         ]
        },
        {
         "hovertemplate": "%{text}",
         "marker": {
          "color": "#7dcea0",
          "colorscale": [
           [
            0,
            "rgb(103,0,31)"
           ],
           [
            0.1,
            "rgb(178,24,43)"
           ],
           [
            0.2,
            "rgb(214,96,77)"
           ],
           [
            0.3,
            "rgb(244,165,130)"
           ],
           [
            0.4,
            "rgb(253,219,199)"
           ],
           [
            0.5,
            "rgb(247,247,247)"
           ],
           [
            0.6,
            "rgb(209,229,240)"
           ],
           [
            0.7,
            "rgb(146,197,222)"
           ],
           [
            0.8,
            "rgb(67,147,195)"
           ],
           [
            0.9,
            "rgb(33,102,172)"
           ],
           [
            1,
            "rgb(5,48,97)"
           ]
          ],
          "line": {
           "color": "black",
           "width": 1
          },
          "reversescale": true,
          "showscale": false,
          "size": 13
         },
         "mode": "markers",
         "name": "",
         "text": [
          "Title: The Hunger Games<br>Author: Suzanne Collins",
          "Title: Twilight<br>Author: Stephenie Meyer",
          "Title: The Great Gatsby<br>Author: F. Scott Fitzgerald",
          "Title: The Fault in Our Stars<br>Author: John Green",
          "Title: The Hobbit<br>Author: J.R.R. Tolkien",
          "Title: The Catcher in the Rye<br>Author: J.D. Salinger",
          "Title: Angels & Demons<br>Author: Dan Brown",
          "Title: Pride and Prejudice<br>Author: Jane Austen",
          "Title: The Kite Runner<br>Author: Khaled Hosseini",
          "Title: Divergent<br>Author: Veronica Roth",
          "Title: Animal Farm<br>Author: George Orwell",
          "Title: Anne Frank The Diary of a Young Girl<br>Author: Anne Frank, Eleanor Roosevelt, B.M. Mooyaart-Doubleday",
          "Title: The Girl with the Dragon Tattoo<br>Author: Stieg Larsson",
          "Title: Catching Fire<br>Author: Suzanne Collins",
          "Title:  The Fellowship of the Ring<br>Author: J.R.R. Tolkien",
          "Title: Mockingjay<br>Author: Suzanne Collins",
          "Title: The Lovely Bones<br>Author: Alice Sebold",
          "Title: The Da Vinci Code<br>Author: Dan Brown",
          "Title: Lord of the Flies <br>Author: William Golding",
          "Title: Romeo and Juliet<br>Author: William Shakespeare",
          "Title: Gone Girl<br>Author: Gillian Flynn",
          "Title: The Help<br>Author: Kathryn Stockett",
          "Title: Of Mice and Men <br>Author: John Steinbeck",
          "Title: Memoirs of a Geisha<br>Author: Arthur Golden",
          "Title: The Giver<br>Author: Lois Lowry",
          "Title: The Lion, the Witch and the Wardrobe<br>Author: C.S. Lewis",
          "Title: The Time Traveler's Wife<br>Author: Audrey Niffenegger",
          "Title: A Game of Thrones<br>Author: George R.R. Martin",
          "Title: The Lightning Thief<br>Author: Rick Riordan",
          "Title: Little Women<br>Author: Louisa May Alcott",
          "Title: Jane Eyre<br>Author: Charlotte Brontë",
          "Title: Life of Pi<br>Author: Yann Martel",
          "Title: Water for Elephants<br>Author: Sara Gruen",
          "Title: The Book Thief<br>Author: Markus Zusak",
          "Title: Fahrenheit 451<br>Author: Ray Bradbury",
          "Title: New Moon (Twilight, #2)<br>Author: Stephenie Meyer",
          "Title: Where the Sidewalk Ends: The Poems and Drawings of Shel Silverstein<br>Author: Shel Silverstein",
          "Title: City of Bones<br>Author: Cassandra Clare",
          "Title: Eclipse<br>Author: Stephenie Meyer",
          "Title: Eragon<br>Author: Christopher Paolini",
          "Title: The Hitchhiker's Guide to the Galaxy<br>Author: Douglas Adams",
          "Title: Brave New World<br>Author: Aldous Huxley",
          "Title: Breaking Dawn<br>Author: Stephenie Meyer",
          "Title: The Secret Life of Bees<br>Author: Sue Monk Kidd",
          "Title: The Adventures of Huckleberry Finn<br>Author: Mark Twain",
          "Title: Charlotte's Web<br>Author: E.B. White, Garth Williams, Rosemary Wells",
          "Title: Northern Lights<br>Author: Philip Pullman",
          "Title: Wuthering Heights<br>Author: Emily Brontë",
          "Title: Slaughterhouse-Five, or The Children's Crusade: A Duty-Dance with Death <br>Author: Kurt Vonnegut Jr.",
          "Title: Gone with the Wind<br>Author: Margaret Mitchell",
          "Title: A Thousand Splendid Suns<br>Author: Khaled Hosseini",
          "Title: Insurgent<br>Author: Veronica Roth",
          "Title: Ender's Game<br>Author: Orson Scott Card",
          "Title: Sense and Sensibility<br>Author: Jane Austen",
          "Title: The Giving Tree<br>Author: Shel Silverstein",
          "Title: Night<br>Author: Elie Wiesel, Marion Wiesel",
          "Title: The Princess Bride<br>Author: William Goldman",
          "Title: The Secret Garden<br>Author: Frances Hodgson Burnett",
          "Title: The Girl Who Played with Fire<br>Author: Stieg Larsson",
          "Title: Where the Wild Things Are<br>Author: Maurice Sendak",
          "Title: A Clash of Kings<br>Author: George R.R. Martin",
          "Title: A Wrinkle in Time<br>Author: Madeleine L'Engle",
          "Title: The Grapes of Wrath<br>Author: John Steinbeck",
          "Title: Anne of Green Gables<br>Author: L.M. Montgomery",
          "Title: City of Glass<br>Author: Cassandra Clare",
          "Title: A Storm of Swords<br>Author: George R.R. Martin",
          "Title: The Girl Who Kicked the Hornet's Nest<br>Author: Stieg Larsson",
          "Title: City of Ashes<br>Author: Cassandra Clare",
          "Title: The Two Towers<br>Author: J.R.R. Tolkien",
          "Title: The Battle of the Labyrinth<br>Author: Rick Riordan",
          "Title: The Return of the King<br>Author: J.R.R. Tolkien",
          "Title: A Feast for Crows<br>Author: George R.R. Martin",
          "Title: Emma<br>Author: Jane Austen",
          "Title: The Last Olympian<br>Author: Rick Riordan",
          "Title: A Dance with Dragons<br>Author: George R.R. Martin",
          "Title: The Lord of the Rings<br>Author: J.R.R. Tolkien"
         ],
         "type": "scatter",
         "x": [
          -0.07642640409952631,
          -0.13837646086356653,
          -0.004360366360028896,
          0.10535485245528371,
          -0.031569070391977504,
          -0.021825020391859084,
          -0.038675758321033524,
          0.23325069137508778,
          0.045092409213863836,
          -0.04110306799926525,
          0.03525176708680959,
          0.2428488533889219,
          -0.21561253891064272,
          -0.025240215169157167,
          -0.0558178696594567,
          0.03499143331777275,
          -0.166760508985854,
          0.07934263882110947,
          0.06294007393676232,
          0.25828715872274743,
          -0.49031434847788696,
          0.11140598880316538,
          0.3523158805167194,
          -0.07842692385931378,
          -0.0875193205641148,
          0.1426961198909959,
          0.26912531488267943,
          0.2568093519284019,
          -0.5759625974807412,
          0.26293580746202083,
          0.35062315704267877,
          0.3944104450986563,
          0.06077786690269442,
          0.10633064667826185,
          -0.09119965089593711,
          -0.33580751627307864,
          -0.1957193486718383,
          -0.6256110099842556,
          -0.24757817593279782,
          0.1095632306474681,
          -0.27646867222940374,
          -0.3168581027076012,
          -0.2695450078330951,
          0.39398992930022286,
          0.16134349352897168,
          0.3589330672188293,
          0.448120294085944,
          0.5023365689011997,
          -0.0013320929949994353,
          0.1885308685858897,
          0.2362440002710098,
          -0.24867801553662225,
          -0.25261828501854494,
          0.6296290452729134,
          -0.23113715353354522,
          0.536719477105632,
          0.2624745047555421,
          0.5940516118670763,
          -0.6015331386339466,
          -0.39610763351683254,
          0.5611490193728517,
          -0.49407922847673663,
          0.48475650416947286,
          -0.12385949527377021,
          -0.9590525648217835,
          0.641491991582833,
          -0.5393186592812484,
          -0.8930680164012345,
          -0.1668081963544985,
          -0.9902536988225905,
          -0.12606058967990627,
          0.6110388945796411,
          0.720515650305721,
          -1,
          0.5239168730563594,
          -0.323522116393621
         ],
         "y": [
          -0.09729991573399713,
          -0.39491601501404006,
          0.2218509079459609,
          -0.2201701180477426,
          0.02254828337031559,
          0.40219153300284005,
          -0.40569144508230137,
          0.01045857279262822,
          0.1625202135427787,
          -0.2570414426002507,
          0.35202506160195224,
          0.12021702723444928,
          0.2677838866769527,
          -0.17034534846091587,
          -0.026289445483150365,
          -0.25739246280277783,
          -0.5732138264943044,
          -0.3240115434335479,
          0.5586578811634914,
          0.7140487326794728,
          -0.3302323819829339,
          0.08930029693353167,
          0.7079403710602998,
          0.18176566013839843,
          0.03805377153495921,
          -0.029410520153771807,
          -0.13698314794900338,
          -0.2434257949765216,
          -0.11001440641169005,
          0.06448861402593875,
          0.03967552821551319,
          0.6285772616843226,
          0.22922835761431404,
          0.00931386249202173,
          0.5988411187438178,
          -0.7679586412478485,
          0.1977554039888987,
          -0.5638766879913547,
          -0.7978064616306565,
          -0.5139930168574429,
          0.09021053436471806,
          0.7257981973347862,
          -0.5760421196545373,
          0.3689894308596295,
          0.7440253072438623,
          0.24713598001549866,
          -0.23307525535482596,
          0.177845419190083,
          0.6252677396496563,
          0.14299473498765378,
          0.3934426075917922,
          -0.3712148889712605,
          -0.03679646008057977,
          0.02617333582651731,
          0.15532111867975548,
          0.5337071120129944,
          -0.44000645112149434,
          0.4430794592862195,
          0.5202821697743562,
          0.20671851094190186,
          -0.5369640656580443,
          0.04062900409443971,
          0.6161179917819962,
          0.4110745047150717,
          -0.7884585279783857,
          -0.502900391801795,
          0.5987864631582395,
          -0.8651367514210146,
          -0.14591237115220657,
          -0.19672618788308338,
          -0.1797029403577436,
          -0.592937987606794,
          -0.06360437604354235,
          -0.09663643790232214,
          -0.6205855875105788,
          -0.15000277677060964
         ]
        },
        {
         "hovertemplate": "%{text}",
         "marker": {
          "color": "#196f3d",
          "colorscale": [
           [
            0,
            "rgb(103,0,31)"
           ],
           [
            0.1,
            "rgb(178,24,43)"
           ],
           [
            0.2,
            "rgb(214,96,77)"
           ],
           [
            0.3,
            "rgb(244,165,130)"
           ],
           [
            0.4,
            "rgb(253,219,199)"
           ],
           [
            0.5,
            "rgb(247,247,247)"
           ],
           [
            0.6,
            "rgb(209,229,240)"
           ],
           [
            0.7,
            "rgb(146,197,222)"
           ],
           [
            0.8,
            "rgb(67,147,195)"
           ],
           [
            0.9,
            "rgb(33,102,172)"
           ],
           [
            1,
            "rgb(5,48,97)"
           ]
          ],
          "line": {
           "width": 1
          },
          "reversescale": true,
          "showscale": false,
          "size": 14
         },
         "mode": "markers",
         "name": "",
         "text": [
          "Title: Harry Potter and the Philosopher's Stone<br>Author: J.K. Rowling",
          "Title: Harry Potter and the Prisoner of Azkaban<br>Author: J.K. Rowling",
          "Title: Harry Potter and the Order of the Phoenix<br>Author: J.K. Rowling",
          "Title: Harry Potter and the Chamber of Secrets<br>Author: J.K. Rowling",
          "Title: Harry Potter and the Goblet of Fire<br>Author: J.K. Rowling",
          "Title: Harry Potter and the Deathly Hallows<br>Author: J.K. Rowling",
          "Title: Harry Potter and the Half-Blood Prince<br>Author: J.K. Rowling"
         ],
         "type": "scatter",
         "x": [
          -0.00037117648862197445,
          0.02388504879092701,
          0.057845524719240524,
          0.13198133416599903,
          0.05256760105408139,
          -0.007765787231910051,
          0.07713390009930697
         ],
         "y": [
          -0.00916650196337682,
          -0.1250622529139188,
          -0.0719945545834168,
          -0.10302931179564322,
          -0.14455191309653442,
          -0.05866756380707601,
          -0.10816573187750635
         ]
        },
        {
         "hovertemplate": "%{text}",
         "marker": {
          "color": "#D7DF01",
          "colorscale": [
           [
            0,
            "rgb(103,0,31)"
           ],
           [
            0.1,
            "rgb(178,24,43)"
           ],
           [
            0.2,
            "rgb(214,96,77)"
           ],
           [
            0.3,
            "rgb(244,165,130)"
           ],
           [
            0.4,
            "rgb(253,219,199)"
           ],
           [
            0.5,
            "rgb(247,247,247)"
           ],
           [
            0.6,
            "rgb(209,229,240)"
           ],
           [
            0.7,
            "rgb(146,197,222)"
           ],
           [
            0.8,
            "rgb(67,147,195)"
           ],
           [
            0.9,
            "rgb(33,102,172)"
           ],
           [
            1,
            "rgb(5,48,97)"
           ]
          ],
          "line": {
           "width": 1
          },
          "reversescale": true,
          "showscale": false,
          "size": 18
         },
         "mode": "markers",
         "name": "",
         "text": [
          "Title: To Kill a Mockingbird<br>Author: Harper Lee",
          "Title: 1984<br>Author: George Orwell"
         ],
         "type": "scatter",
         "x": [
          0.14268637566915857,
          -0.09335146210807906
         ],
         "y": [
          0.2467337524356995,
          0.3058383092728161
         ]
        }
       ],
       "layout": {
        "annotations": [
         {
          "font": {
           "size": 13
          },
          "showarrow": false,
          "text": "",
          "textangle": -15,
          "x": -0.07642640409952631,
          "xanchor": "center",
          "y": -0.03729991573399713,
          "yanchor": "middle"
         },
         {
          "font": {
           "size": 13
          },
          "showarrow": false,
          "text": "",
          "textangle": -15,
          "x": -0.00037117648862197445,
          "xanchor": "center",
          "y": 0.05083349803662318,
          "yanchor": "middle"
         },
         {
          "font": {
           "size": 13
          },
          "showarrow": false,
          "text": "",
          "textangle": -15,
          "x": -0.13837646086356653,
          "xanchor": "center",
          "y": -0.33491601501404006,
          "yanchor": "middle"
         },
         {
          "font": {
           "size": 13
          },
          "showarrow": false,
          "text": "To Kill a Mockingbird",
          "textangle": -15,
          "x": 0.14268637566915857,
          "xanchor": "center",
          "y": 0.3067337524356995,
          "yanchor": "middle"
         },
         {
          "font": {
           "size": 13
          },
          "showarrow": false,
          "text": "",
          "textangle": -15,
          "x": -0.004360366360028896,
          "xanchor": "center",
          "y": 0.2818509079459609,
          "yanchor": "middle"
         },
         {
          "font": {
           "size": 13
          },
          "showarrow": false,
          "text": "",
          "textangle": -15,
          "x": 0.10535485245528371,
          "xanchor": "center",
          "y": -0.16017011804774262,
          "yanchor": "middle"
         },
         {
          "font": {
           "size": 13
          },
          "showarrow": false,
          "text": "",
          "textangle": -15,
          "x": -0.031569070391977504,
          "xanchor": "center",
          "y": 0.08254828337031558,
          "yanchor": "middle"
         },
         {
          "font": {
           "size": 13
          },
          "showarrow": false,
          "text": "",
          "textangle": -15,
          "x": -0.021825020391859084,
          "xanchor": "center",
          "y": 0.46219153300284005,
          "yanchor": "middle"
         },
         {
          "font": {
           "size": 13
          },
          "showarrow": false,
          "text": "",
          "textangle": -15,
          "x": -0.038675758321033524,
          "xanchor": "center",
          "y": -0.3456914450823014,
          "yanchor": "middle"
         },
         {
          "font": {
           "size": 13
          },
          "showarrow": false,
          "text": "",
          "textangle": -15,
          "x": 0.23325069137508778,
          "xanchor": "center",
          "y": 0.07045857279262821,
          "yanchor": "middle"
         },
         {
          "font": {
           "size": 13
          },
          "showarrow": false,
          "text": "",
          "textangle": -15,
          "x": 0.045092409213863836,
          "xanchor": "center",
          "y": 0.2225202135427787,
          "yanchor": "middle"
         },
         {
          "font": {
           "size": 13
          },
          "showarrow": false,
          "text": "",
          "textangle": -15,
          "x": -0.04110306799926525,
          "xanchor": "center",
          "y": -0.1970414426002507,
          "yanchor": "middle"
         },
         {
          "font": {
           "size": 13
          },
          "showarrow": false,
          "text": "1984",
          "textangle": -15,
          "x": -0.09335146210807906,
          "xanchor": "center",
          "y": 0.3658383092728161,
          "yanchor": "middle"
         },
         {
          "font": {
           "size": 13
          },
          "showarrow": false,
          "text": "",
          "textangle": -15,
          "x": 0.03525176708680959,
          "xanchor": "center",
          "y": 0.41202506160195224,
          "yanchor": "middle"
         },
         {
          "font": {
           "size": 13
          },
          "showarrow": false,
          "text": "",
          "textangle": -15,
          "x": 0.2428488533889219,
          "xanchor": "center",
          "y": 0.18021702723444927,
          "yanchor": "middle"
         },
         {
          "font": {
           "size": 13
          },
          "showarrow": false,
          "text": "",
          "textangle": -15,
          "x": -0.21561253891064272,
          "xanchor": "center",
          "y": 0.3277838866769527,
          "yanchor": "middle"
         },
         {
          "font": {
           "size": 13
          },
          "showarrow": false,
          "text": "",
          "textangle": -15,
          "x": -0.025240215169157167,
          "xanchor": "center",
          "y": -0.11034534846091587,
          "yanchor": "middle"
         },
         {
          "font": {
           "size": 13
          },
          "showarrow": false,
          "text": "",
          "textangle": -15,
          "x": 0.02388504879092701,
          "xanchor": "center",
          "y": -0.06506225291391879,
          "yanchor": "middle"
         },
         {
          "font": {
           "size": 13
          },
          "showarrow": false,
          "text": "",
          "textangle": -15,
          "x": -0.0558178696594567,
          "xanchor": "center",
          "y": 0.033710554516849636,
          "yanchor": "middle"
         },
         {
          "font": {
           "size": 13
          },
          "showarrow": false,
          "text": "",
          "textangle": -15,
          "x": 0.03499143331777275,
          "xanchor": "center",
          "y": -0.19739246280277783,
          "yanchor": "middle"
         },
         {
          "font": {
           "size": 13
          },
          "showarrow": false,
          "text": "",
          "textangle": -15,
          "x": 0.057845524719240524,
          "xanchor": "center",
          "y": -0.011994554583416805,
          "yanchor": "middle"
         },
         {
          "font": {
           "size": 13
          },
          "showarrow": false,
          "text": "",
          "textangle": -15,
          "x": -0.166760508985854,
          "xanchor": "center",
          "y": -0.5132138264943045,
          "yanchor": "middle"
         },
         {
          "font": {
           "size": 13
          },
          "showarrow": false,
          "text": "",
          "textangle": -15,
          "x": 0.13198133416599903,
          "xanchor": "center",
          "y": -0.04302931179564322,
          "yanchor": "middle"
         },
         {
          "font": {
           "size": 13
          },
          "showarrow": false,
          "text": "",
          "textangle": -15,
          "x": 0.05256760105408139,
          "xanchor": "center",
          "y": -0.08455191309653443,
          "yanchor": "middle"
         },
         {
          "font": {
           "size": 13
          },
          "showarrow": false,
          "text": "",
          "textangle": -15,
          "x": -0.007765787231910051,
          "xanchor": "center",
          "y": 0.0013324361929239886,
          "yanchor": "middle"
         },
         {
          "font": {
           "size": 13
          },
          "showarrow": false,
          "text": "",
          "textangle": -15,
          "x": 0.07934263882110947,
          "xanchor": "center",
          "y": -0.2640115434335479,
          "yanchor": "middle"
         },
         {
          "font": {
           "size": 13
          },
          "showarrow": false,
          "text": "",
          "textangle": -15,
          "x": 0.07713390009930697,
          "xanchor": "center",
          "y": -0.04816573187750635,
          "yanchor": "middle"
         },
         {
          "font": {
           "size": 13
          },
          "showarrow": false,
          "text": "",
          "textangle": -15,
          "x": 0.06294007393676232,
          "xanchor": "center",
          "y": 0.6186578811634913,
          "yanchor": "middle"
         },
         {
          "font": {
           "size": 13
          },
          "showarrow": false,
          "text": "Romeo and Juliet",
          "textangle": -15,
          "x": 0.25828715872274743,
          "xanchor": "center",
          "y": 0.7740487326794727,
          "yanchor": "middle"
         },
         {
          "font": {
           "size": 13
          },
          "showarrow": false,
          "text": "",
          "textangle": -15,
          "x": -0.49031434847788696,
          "xanchor": "center",
          "y": -0.2702323819829339,
          "yanchor": "middle"
         },
         {
          "font": {
           "size": 13
          },
          "showarrow": false,
          "text": "",
          "textangle": -15,
          "x": 0.11140598880316538,
          "xanchor": "center",
          "y": 0.14930029693353167,
          "yanchor": "middle"
         },
         {
          "font": {
           "size": 13
          },
          "showarrow": false,
          "text": "",
          "textangle": -15,
          "x": 0.3523158805167194,
          "xanchor": "center",
          "y": 0.7679403710602999,
          "yanchor": "middle"
         },
         {
          "font": {
           "size": 13
          },
          "showarrow": false,
          "text": "",
          "textangle": -15,
          "x": -0.07842692385931378,
          "xanchor": "center",
          "y": 0.24176566013839842,
          "yanchor": "middle"
         },
         {
          "font": {
           "size": 13
          },
          "showarrow": false,
          "text": "",
          "textangle": -15,
          "x": -0.0875193205641148,
          "xanchor": "center",
          "y": 0.0980537715349592,
          "yanchor": "middle"
         },
         {
          "font": {
           "size": 13
          },
          "showarrow": false,
          "text": "",
          "textangle": -15,
          "x": 0.1426961198909959,
          "xanchor": "center",
          "y": 0.03058947984622819,
          "yanchor": "middle"
         },
         {
          "font": {
           "size": 13
          },
          "showarrow": false,
          "text": "",
          "textangle": -15,
          "x": 0.26912531488267943,
          "xanchor": "center",
          "y": -0.07698314794900338,
          "yanchor": "middle"
         },
         {
          "font": {
           "size": 13
          },
          "showarrow": false,
          "text": "",
          "textangle": -15,
          "x": 0.2568093519284019,
          "xanchor": "center",
          "y": -0.1834257949765216,
          "yanchor": "middle"
         },
         {
          "font": {
           "size": 13
          },
          "showarrow": false,
          "text": "",
          "textangle": -15,
          "x": -0.5759625974807412,
          "xanchor": "center",
          "y": -0.050014406411690054,
          "yanchor": "middle"
         },
         {
          "font": {
           "size": 13
          },
          "showarrow": false,
          "text": "",
          "textangle": -15,
          "x": 0.26293580746202083,
          "xanchor": "center",
          "y": 0.12448861402593875,
          "yanchor": "middle"
         },
         {
          "font": {
           "size": 13
          },
          "showarrow": false,
          "text": "",
          "textangle": -15,
          "x": 0.35062315704267877,
          "xanchor": "center",
          "y": 0.09967552821551319,
          "yanchor": "middle"
         },
         {
          "font": {
           "size": 13
          },
          "showarrow": false,
          "text": "Life of Pi",
          "textangle": -15,
          "x": 0.3944104450986563,
          "xanchor": "center",
          "y": 0.6885772616843227,
          "yanchor": "middle"
         },
         {
          "font": {
           "size": 13
          },
          "showarrow": false,
          "text": "",
          "textangle": -15,
          "x": 0.06077786690269442,
          "xanchor": "center",
          "y": 0.28922835761431404,
          "yanchor": "middle"
         },
         {
          "font": {
           "size": 13
          },
          "showarrow": false,
          "text": "",
          "textangle": -15,
          "x": 0.10633064667826185,
          "xanchor": "center",
          "y": 0.06931386249202173,
          "yanchor": "middle"
         },
         {
          "font": {
           "size": 13
          },
          "showarrow": false,
          "text": "Fahrenheit 451",
          "textangle": -15,
          "x": -0.09119965089593711,
          "xanchor": "center",
          "y": 0.6588411187438179,
          "yanchor": "middle"
         },
         {
          "font": {
           "size": 13
          },
          "showarrow": false,
          "text": "",
          "textangle": -15,
          "x": -0.33580751627307864,
          "xanchor": "center",
          "y": -0.7079586412478485,
          "yanchor": "middle"
         },
         {
          "font": {
           "size": 13
          },
          "showarrow": false,
          "text": "",
          "textangle": -15,
          "x": -0.1957193486718383,
          "xanchor": "center",
          "y": 0.25775540398889873,
          "yanchor": "middle"
         },
         {
          "font": {
           "size": 13
          },
          "showarrow": false,
          "text": "",
          "textangle": -15,
          "x": -0.6256110099842556,
          "xanchor": "center",
          "y": -0.5038766879913548,
          "yanchor": "middle"
         },
         {
          "font": {
           "size": 13
          },
          "showarrow": false,
          "text": "",
          "textangle": -15,
          "x": -0.24757817593279782,
          "xanchor": "center",
          "y": -0.7378064616306566,
          "yanchor": "middle"
         },
         {
          "font": {
           "size": 13
          },
          "showarrow": false,
          "text": "",
          "textangle": -15,
          "x": 0.1095632306474681,
          "xanchor": "center",
          "y": -0.4539930168574429,
          "yanchor": "middle"
         },
         {
          "font": {
           "size": 13
          },
          "showarrow": false,
          "text": "",
          "textangle": -15,
          "x": -0.27646867222940374,
          "xanchor": "center",
          "y": 0.15021053436471804,
          "yanchor": "middle"
         },
         {
          "font": {
           "size": 13
          },
          "showarrow": false,
          "text": "",
          "textangle": -15,
          "x": -0.3168581027076012,
          "xanchor": "center",
          "y": 0.7857981973347863,
          "yanchor": "middle"
         },
         {
          "font": {
           "size": 13
          },
          "showarrow": false,
          "text": "",
          "textangle": -15,
          "x": -0.2695450078330951,
          "xanchor": "center",
          "y": -0.5160421196545373,
          "yanchor": "middle"
         },
         {
          "font": {
           "size": 13
          },
          "showarrow": false,
          "text": "",
          "textangle": -15,
          "x": 0.39398992930022286,
          "xanchor": "center",
          "y": 0.4289894308596295,
          "yanchor": "middle"
         },
         {
          "font": {
           "size": 13
          },
          "showarrow": false,
          "text": "",
          "textangle": -15,
          "x": 0.16134349352897168,
          "xanchor": "center",
          "y": 0.8040253072438623,
          "yanchor": "middle"
         },
         {
          "font": {
           "size": 13
          },
          "showarrow": false,
          "text": "",
          "textangle": -15,
          "x": 0.3589330672188293,
          "xanchor": "center",
          "y": 0.3071359800154987,
          "yanchor": "middle"
         },
         {
          "font": {
           "size": 13
          },
          "showarrow": false,
          "text": "",
          "textangle": -15,
          "x": 0.448120294085944,
          "xanchor": "center",
          "y": -0.17307525535482596,
          "yanchor": "middle"
         },
         {
          "font": {
           "size": 13
          },
          "showarrow": false,
          "text": "Wuthering Heights",
          "textangle": -15,
          "x": 0.5023365689011997,
          "xanchor": "center",
          "y": 0.237845419190083,
          "yanchor": "middle"
         },
         {
          "font": {
           "size": 13
          },
          "showarrow": false,
          "text": "",
          "textangle": -15,
          "x": -0.0013320929949994353,
          "xanchor": "center",
          "y": 0.6852677396496563,
          "yanchor": "middle"
         },
         {
          "font": {
           "size": 13
          },
          "showarrow": false,
          "text": "",
          "textangle": -15,
          "x": 0.1885308685858897,
          "xanchor": "center",
          "y": 0.20299473498765377,
          "yanchor": "middle"
         },
         {
          "font": {
           "size": 13
          },
          "showarrow": false,
          "text": "",
          "textangle": -15,
          "x": 0.2362440002710098,
          "xanchor": "center",
          "y": 0.4534426075917922,
          "yanchor": "middle"
         },
         {
          "font": {
           "size": 13
          },
          "showarrow": false,
          "text": "",
          "textangle": -15,
          "x": -0.24867801553662225,
          "xanchor": "center",
          "y": -0.3112148889712605,
          "yanchor": "middle"
         },
         {
          "font": {
           "size": 13
          },
          "showarrow": false,
          "text": "",
          "textangle": -15,
          "x": -0.25261828501854494,
          "xanchor": "center",
          "y": 0.02320353991942023,
          "yanchor": "middle"
         },
         {
          "font": {
           "size": 13
          },
          "showarrow": false,
          "text": "",
          "textangle": -15,
          "x": 0.6296290452729134,
          "xanchor": "center",
          "y": 0.0861733358265173,
          "yanchor": "middle"
         },
         {
          "font": {
           "size": 13
          },
          "showarrow": false,
          "text": "",
          "textangle": -15,
          "x": -0.23113715353354522,
          "xanchor": "center",
          "y": 0.21532111867975548,
          "yanchor": "middle"
         },
         {
          "font": {
           "size": 13
          },
          "showarrow": false,
          "text": "",
          "textangle": -15,
          "x": 0.536719477105632,
          "xanchor": "center",
          "y": 0.5937071120129944,
          "yanchor": "middle"
         },
         {
          "font": {
           "size": 13
          },
          "showarrow": false,
          "text": "",
          "textangle": -15,
          "x": 0.2624745047555421,
          "xanchor": "center",
          "y": -0.38000645112149434,
          "yanchor": "middle"
         },
         {
          "font": {
           "size": 13
          },
          "showarrow": false,
          "text": "The Secret Garden",
          "textangle": -15,
          "x": 0.5940516118670763,
          "xanchor": "center",
          "y": 0.5030794592862196,
          "yanchor": "middle"
         },
         {
          "font": {
           "size": 13
          },
          "showarrow": false,
          "text": "",
          "textangle": -15,
          "x": -0.6015331386339466,
          "xanchor": "center",
          "y": 0.5802821697743561,
          "yanchor": "middle"
         },
         {
          "font": {
           "size": 13
          },
          "showarrow": false,
          "text": "",
          "textangle": -15,
          "x": -0.39610763351683254,
          "xanchor": "center",
          "y": 0.26671851094190185,
          "yanchor": "middle"
         },
         {
          "font": {
           "size": 13
          },
          "showarrow": false,
          "text": "",
          "textangle": -15,
          "x": 0.5611490193728517,
          "xanchor": "center",
          "y": -0.47696406565804433,
          "yanchor": "middle"
         },
         {
          "font": {
           "size": 13
          },
          "showarrow": false,
          "text": "",
          "textangle": -15,
          "x": -0.49407922847673663,
          "xanchor": "center",
          "y": 0.1006290040944397,
          "yanchor": "middle"
         },
         {
          "font": {
           "size": 13
          },
          "showarrow": false,
          "text": "The Grapes of Wrath",
          "textangle": -15,
          "x": 0.48475650416947286,
          "xanchor": "center",
          "y": 0.6761179917819962,
          "yanchor": "middle"
         },
         {
          "font": {
           "size": 13
          },
          "showarrow": false,
          "text": "",
          "textangle": -15,
          "x": -0.12385949527377021,
          "xanchor": "center",
          "y": 0.4710745047150717,
          "yanchor": "middle"
         },
         {
          "font": {
           "size": 13
          },
          "showarrow": false,
          "text": "",
          "textangle": -15,
          "x": -0.9590525648217835,
          "xanchor": "center",
          "y": -0.7284585279783857,
          "yanchor": "middle"
         },
         {
          "font": {
           "size": 13
          },
          "showarrow": false,
          "text": "",
          "textangle": -15,
          "x": 0.641491991582833,
          "xanchor": "center",
          "y": -0.442900391801795,
          "yanchor": "middle"
         },
         {
          "font": {
           "size": 13
          },
          "showarrow": false,
          "text": "",
          "textangle": -15,
          "x": -0.5393186592812484,
          "xanchor": "center",
          "y": 0.6587864631582394,
          "yanchor": "middle"
         },
         {
          "font": {
           "size": 13
          },
          "showarrow": false,
          "text": "",
          "textangle": -15,
          "x": -0.8930680164012345,
          "xanchor": "center",
          "y": -0.8051367514210146,
          "yanchor": "middle"
         },
         {
          "font": {
           "size": 13
          },
          "showarrow": false,
          "text": "",
          "textangle": -15,
          "x": -0.1668081963544985,
          "xanchor": "center",
          "y": -0.08591237115220657,
          "yanchor": "middle"
         },
         {
          "font": {
           "size": 13
          },
          "showarrow": false,
          "text": "",
          "textangle": -15,
          "x": -0.9902536988225905,
          "xanchor": "center",
          "y": -0.13672618788308338,
          "yanchor": "middle"
         },
         {
          "font": {
           "size": 13
          },
          "showarrow": false,
          "text": "",
          "textangle": -15,
          "x": -0.12606058967990627,
          "xanchor": "center",
          "y": -0.11970294035774359,
          "yanchor": "middle"
         },
         {
          "font": {
           "size": 13
          },
          "showarrow": false,
          "text": "",
          "textangle": -15,
          "x": 0.6110388945796411,
          "xanchor": "center",
          "y": -0.5329379876067939,
          "yanchor": "middle"
         },
         {
          "font": {
           "size": 13
          },
          "showarrow": false,
          "text": "",
          "textangle": -15,
          "x": 0.720515650305721,
          "xanchor": "center",
          "y": -0.0036043760435423566,
          "yanchor": "middle"
         },
         {
          "font": {
           "size": 13
          },
          "showarrow": false,
          "text": "",
          "textangle": -15,
          "x": -1,
          "xanchor": "center",
          "y": -0.03663643790232214,
          "yanchor": "middle"
         },
         {
          "font": {
           "size": 13
          },
          "showarrow": false,
          "text": "",
          "textangle": -15,
          "x": 0.5239168730563594,
          "xanchor": "center",
          "y": -0.5605855875105787,
          "yanchor": "middle"
         },
         {
          "font": {
           "size": 13
          },
          "showarrow": false,
          "text": "",
          "textangle": -15,
          "x": -0.323522116393621,
          "xanchor": "center",
          "y": -0.09000277677060964,
          "yanchor": "middle"
         }
        ],
        "hovermode": "closest",
        "margin": {
         "b": 20,
         "l": 50,
         "r": 50
        },
        "plot_bgcolor": "#f4f6f6",
        "showlegend": false,
        "template": {
         "data": {
          "bar": [
           {
            "error_x": {
             "color": "#2a3f5f"
            },
            "error_y": {
             "color": "#2a3f5f"
            },
            "marker": {
             "line": {
              "color": "#E5ECF6",
              "width": 0.5
             }
            },
            "type": "bar"
           }
          ],
          "barpolar": [
           {
            "marker": {
             "line": {
              "color": "#E5ECF6",
              "width": 0.5
             }
            },
            "type": "barpolar"
           }
          ],
          "carpet": [
           {
            "aaxis": {
             "endlinecolor": "#2a3f5f",
             "gridcolor": "white",
             "linecolor": "white",
             "minorgridcolor": "white",
             "startlinecolor": "#2a3f5f"
            },
            "baxis": {
             "endlinecolor": "#2a3f5f",
             "gridcolor": "white",
             "linecolor": "white",
             "minorgridcolor": "white",
             "startlinecolor": "#2a3f5f"
            },
            "type": "carpet"
           }
          ],
          "choropleth": [
           {
            "colorbar": {
             "outlinewidth": 0,
             "ticks": ""
            },
            "type": "choropleth"
           }
          ],
          "contour": [
           {
            "colorbar": {
             "outlinewidth": 0,
             "ticks": ""
            },
            "colorscale": [
             [
              0,
              "#0d0887"
             ],
             [
              0.1111111111111111,
              "#46039f"
             ],
             [
              0.2222222222222222,
              "#7201a8"
             ],
             [
              0.3333333333333333,
              "#9c179e"
             ],
             [
              0.4444444444444444,
              "#bd3786"
             ],
             [
              0.5555555555555556,
              "#d8576b"
             ],
             [
              0.6666666666666666,
              "#ed7953"
             ],
             [
              0.7777777777777778,
              "#fb9f3a"
             ],
             [
              0.8888888888888888,
              "#fdca26"
             ],
             [
              1,
              "#f0f921"
             ]
            ],
            "type": "contour"
           }
          ],
          "contourcarpet": [
           {
            "colorbar": {
             "outlinewidth": 0,
             "ticks": ""
            },
            "type": "contourcarpet"
           }
          ],
          "heatmap": [
           {
            "colorbar": {
             "outlinewidth": 0,
             "ticks": ""
            },
            "colorscale": [
             [
              0,
              "#0d0887"
             ],
             [
              0.1111111111111111,
              "#46039f"
             ],
             [
              0.2222222222222222,
              "#7201a8"
             ],
             [
              0.3333333333333333,
              "#9c179e"
             ],
             [
              0.4444444444444444,
              "#bd3786"
             ],
             [
              0.5555555555555556,
              "#d8576b"
             ],
             [
              0.6666666666666666,
              "#ed7953"
             ],
             [
              0.7777777777777778,
              "#fb9f3a"
             ],
             [
              0.8888888888888888,
              "#fdca26"
             ],
             [
              1,
              "#f0f921"
             ]
            ],
            "type": "heatmap"
           }
          ],
          "heatmapgl": [
           {
            "colorbar": {
             "outlinewidth": 0,
             "ticks": ""
            },
            "colorscale": [
             [
              0,
              "#0d0887"
             ],
             [
              0.1111111111111111,
              "#46039f"
             ],
             [
              0.2222222222222222,
              "#7201a8"
             ],
             [
              0.3333333333333333,
              "#9c179e"
             ],
             [
              0.4444444444444444,
              "#bd3786"
             ],
             [
              0.5555555555555556,
              "#d8576b"
             ],
             [
              0.6666666666666666,
              "#ed7953"
             ],
             [
              0.7777777777777778,
              "#fb9f3a"
             ],
             [
              0.8888888888888888,
              "#fdca26"
             ],
             [
              1,
              "#f0f921"
             ]
            ],
            "type": "heatmapgl"
           }
          ],
          "histogram": [
           {
            "marker": {
             "colorbar": {
              "outlinewidth": 0,
              "ticks": ""
             }
            },
            "type": "histogram"
           }
          ],
          "histogram2d": [
           {
            "colorbar": {
             "outlinewidth": 0,
             "ticks": ""
            },
            "colorscale": [
             [
              0,
              "#0d0887"
             ],
             [
              0.1111111111111111,
              "#46039f"
             ],
             [
              0.2222222222222222,
              "#7201a8"
             ],
             [
              0.3333333333333333,
              "#9c179e"
             ],
             [
              0.4444444444444444,
              "#bd3786"
             ],
             [
              0.5555555555555556,
              "#d8576b"
             ],
             [
              0.6666666666666666,
              "#ed7953"
             ],
             [
              0.7777777777777778,
              "#fb9f3a"
             ],
             [
              0.8888888888888888,
              "#fdca26"
             ],
             [
              1,
              "#f0f921"
             ]
            ],
            "type": "histogram2d"
           }
          ],
          "histogram2dcontour": [
           {
            "colorbar": {
             "outlinewidth": 0,
             "ticks": ""
            },
            "colorscale": [
             [
              0,
              "#0d0887"
             ],
             [
              0.1111111111111111,
              "#46039f"
             ],
             [
              0.2222222222222222,
              "#7201a8"
             ],
             [
              0.3333333333333333,
              "#9c179e"
             ],
             [
              0.4444444444444444,
              "#bd3786"
             ],
             [
              0.5555555555555556,
              "#d8576b"
             ],
             [
              0.6666666666666666,
              "#ed7953"
             ],
             [
              0.7777777777777778,
              "#fb9f3a"
             ],
             [
              0.8888888888888888,
              "#fdca26"
             ],
             [
              1,
              "#f0f921"
             ]
            ],
            "type": "histogram2dcontour"
           }
          ],
          "mesh3d": [
           {
            "colorbar": {
             "outlinewidth": 0,
             "ticks": ""
            },
            "type": "mesh3d"
           }
          ],
          "parcoords": [
           {
            "line": {
             "colorbar": {
              "outlinewidth": 0,
              "ticks": ""
             }
            },
            "type": "parcoords"
           }
          ],
          "pie": [
           {
            "automargin": true,
            "type": "pie"
           }
          ],
          "scatter": [
           {
            "marker": {
             "colorbar": {
              "outlinewidth": 0,
              "ticks": ""
             }
            },
            "type": "scatter"
           }
          ],
          "scatter3d": [
           {
            "line": {
             "colorbar": {
              "outlinewidth": 0,
              "ticks": ""
             }
            },
            "marker": {
             "colorbar": {
              "outlinewidth": 0,
              "ticks": ""
             }
            },
            "type": "scatter3d"
           }
          ],
          "scattercarpet": [
           {
            "marker": {
             "colorbar": {
              "outlinewidth": 0,
              "ticks": ""
             }
            },
            "type": "scattercarpet"
           }
          ],
          "scattergeo": [
           {
            "marker": {
             "colorbar": {
              "outlinewidth": 0,
              "ticks": ""
             }
            },
            "type": "scattergeo"
           }
          ],
          "scattergl": [
           {
            "marker": {
             "colorbar": {
              "outlinewidth": 0,
              "ticks": ""
             }
            },
            "type": "scattergl"
           }
          ],
          "scattermapbox": [
           {
            "marker": {
             "colorbar": {
              "outlinewidth": 0,
              "ticks": ""
             }
            },
            "type": "scattermapbox"
           }
          ],
          "scatterpolar": [
           {
            "marker": {
             "colorbar": {
              "outlinewidth": 0,
              "ticks": ""
             }
            },
            "type": "scatterpolar"
           }
          ],
          "scatterpolargl": [
           {
            "marker": {
             "colorbar": {
              "outlinewidth": 0,
              "ticks": ""
             }
            },
            "type": "scatterpolargl"
           }
          ],
          "scatterternary": [
           {
            "marker": {
             "colorbar": {
              "outlinewidth": 0,
              "ticks": ""
             }
            },
            "type": "scatterternary"
           }
          ],
          "surface": [
           {
            "colorbar": {
             "outlinewidth": 0,
             "ticks": ""
            },
            "colorscale": [
             [
              0,
              "#0d0887"
             ],
             [
              0.1111111111111111,
              "#46039f"
             ],
             [
              0.2222222222222222,
              "#7201a8"
             ],
             [
              0.3333333333333333,
              "#9c179e"
             ],
             [
              0.4444444444444444,
              "#bd3786"
             ],
             [
              0.5555555555555556,
              "#d8576b"
             ],
             [
              0.6666666666666666,
              "#ed7953"
             ],
             [
              0.7777777777777778,
              "#fb9f3a"
             ],
             [
              0.8888888888888888,
              "#fdca26"
             ],
             [
              1,
              "#f0f921"
             ]
            ],
            "type": "surface"
           }
          ],
          "table": [
           {
            "cells": {
             "fill": {
              "color": "#EBF0F8"
             },
             "line": {
              "color": "white"
             }
            },
            "header": {
             "fill": {
              "color": "#C8D4E3"
             },
             "line": {
              "color": "white"
             }
            },
            "type": "table"
           }
          ]
         },
         "layout": {
          "annotationdefaults": {
           "arrowcolor": "#2a3f5f",
           "arrowhead": 0,
           "arrowwidth": 1
          },
          "coloraxis": {
           "colorbar": {
            "outlinewidth": 0,
            "ticks": ""
           }
          },
          "colorscale": {
           "diverging": [
            [
             0,
             "#8e0152"
            ],
            [
             0.1,
             "#c51b7d"
            ],
            [
             0.2,
             "#de77ae"
            ],
            [
             0.3,
             "#f1b6da"
            ],
            [
             0.4,
             "#fde0ef"
            ],
            [
             0.5,
             "#f7f7f7"
            ],
            [
             0.6,
             "#e6f5d0"
            ],
            [
             0.7,
             "#b8e186"
            ],
            [
             0.8,
             "#7fbc41"
            ],
            [
             0.9,
             "#4d9221"
            ],
            [
             1,
             "#276419"
            ]
           ],
           "sequential": [
            [
             0,
             "#0d0887"
            ],
            [
             0.1111111111111111,
             "#46039f"
            ],
            [
             0.2222222222222222,
             "#7201a8"
            ],
            [
             0.3333333333333333,
             "#9c179e"
            ],
            [
             0.4444444444444444,
             "#bd3786"
            ],
            [
             0.5555555555555556,
             "#d8576b"
            ],
            [
             0.6666666666666666,
             "#ed7953"
            ],
            [
             0.7777777777777778,
             "#fb9f3a"
            ],
            [
             0.8888888888888888,
             "#fdca26"
            ],
            [
             1,
             "#f0f921"
            ]
           ],
           "sequentialminus": [
            [
             0,
             "#0d0887"
            ],
            [
             0.1111111111111111,
             "#46039f"
            ],
            [
             0.2222222222222222,
             "#7201a8"
            ],
            [
             0.3333333333333333,
             "#9c179e"
            ],
            [
             0.4444444444444444,
             "#bd3786"
            ],
            [
             0.5555555555555556,
             "#d8576b"
            ],
            [
             0.6666666666666666,
             "#ed7953"
            ],
            [
             0.7777777777777778,
             "#fb9f3a"
            ],
            [
             0.8888888888888888,
             "#fdca26"
            ],
            [
             1,
             "#f0f921"
            ]
           ]
          },
          "colorway": [
           "#636efa",
           "#EF553B",
           "#00cc96",
           "#ab63fa",
           "#FFA15A",
           "#19d3f3",
           "#FF6692",
           "#B6E880",
           "#FF97FF",
           "#FECB52"
          ],
          "font": {
           "color": "#2a3f5f"
          },
          "geo": {
           "bgcolor": "white",
           "lakecolor": "white",
           "landcolor": "#E5ECF6",
           "showlakes": true,
           "showland": true,
           "subunitcolor": "white"
          },
          "hoverlabel": {
           "align": "left"
          },
          "hovermode": "closest",
          "mapbox": {
           "style": "light"
          },
          "paper_bgcolor": "white",
          "plot_bgcolor": "#E5ECF6",
          "polar": {
           "angularaxis": {
            "gridcolor": "white",
            "linecolor": "white",
            "ticks": ""
           },
           "bgcolor": "#E5ECF6",
           "radialaxis": {
            "gridcolor": "white",
            "linecolor": "white",
            "ticks": ""
           }
          },
          "scene": {
           "xaxis": {
            "backgroundcolor": "#E5ECF6",
            "gridcolor": "white",
            "gridwidth": 2,
            "linecolor": "white",
            "showbackground": true,
            "ticks": "",
            "zerolinecolor": "white"
           },
           "yaxis": {
            "backgroundcolor": "#E5ECF6",
            "gridcolor": "white",
            "gridwidth": 2,
            "linecolor": "white",
            "showbackground": true,
            "ticks": "",
            "zerolinecolor": "white"
           },
           "zaxis": {
            "backgroundcolor": "#E5ECF6",
            "gridcolor": "white",
            "gridwidth": 2,
            "linecolor": "white",
            "showbackground": true,
            "ticks": "",
            "zerolinecolor": "white"
           }
          },
          "shapedefaults": {
           "line": {
            "color": "#2a3f5f"
           }
          },
          "ternary": {
           "aaxis": {
            "gridcolor": "white",
            "linecolor": "white",
            "ticks": ""
           },
           "baxis": {
            "gridcolor": "white",
            "linecolor": "white",
            "ticks": ""
           },
           "bgcolor": "#E5ECF6",
           "caxis": {
            "gridcolor": "white",
            "linecolor": "white",
            "ticks": ""
           }
          },
          "title": {
           "x": 0.05
          },
          "xaxis": {
           "automargin": true,
           "gridcolor": "white",
           "linecolor": "white",
           "ticks": "",
           "title": {
            "standoff": 15
           },
           "zerolinecolor": "white",
           "zerolinewidth": 2
          },
          "yaxis": {
           "automargin": true,
           "gridcolor": "white",
           "linecolor": "white",
           "ticks": "",
           "title": {
            "standoff": 15
           },
           "zerolinecolor": "white",
           "zerolinewidth": 2
          }
         }
        },
        "title": {
         "font": {
          "size": 16
         },
         "text": "Book network graph <br><i>(hover for the title and author)<i>"
        },
        "xaxis": {
         "fixedrange": true,
         "range": [
          -0.3,
          0.75
         ],
         "showgrid": false,
         "showticklabels": false,
         "zeroline": false
        },
        "yaxis": {
         "fixedrange": true,
         "range": [
          0.003,
          0.9
         ],
         "showgrid": false,
         "showticklabels": false,
         "zeroline": false
        }
       }
      }
     },
     "metadata": {}
    },
    {
     "output_type": "execute_result",
     "data": {
      "text/plain": "'https://plotly.com/~tri.qu.nguyen/94/'"
     },
     "metadata": {},
     "execution_count": 106
    }
   ],
   "source": [
    "graph_top = go.Figure(data=[edge_trace, node_trace, node_trace2, node_trace3],\n",
    "             layout=go.Layout(\n",
    "                title='Book network graph <br><i>(hover for the title and author)<i>',\n",
    "                titlefont=dict(size=16),\n",
    "                showlegend=False,\n",
    "                hovermode='closest',\n",
    "                annotations=annotations,\n",
    "                margin=dict(b=20,l=50,r=50),\n",
    "                plot_bgcolor=\"#f4f6f6\",\n",
    "                xaxis=dict(fixedrange=True,showgrid=False, zeroline=False, showticklabels=False, range=[-0.3,0.75]),\n",
    "                yaxis=dict(fixedrange=True,showgrid=False, zeroline=False, showticklabels=False, range=[0.003,0.9])))\n",
    "graph_top.show()\n",
    "py.plot(graph_top, filename = 'graph_top_books2', auto_open=True)"
   ]
  },
  {
   "cell_type": "code",
   "execution_count": null,
   "metadata": {},
   "outputs": [],
   "source": []
  }
 ],
 "metadata": {
  "language_info": {
   "codemirror_mode": {
    "name": "ipython",
    "version": 3
   },
   "file_extension": ".py",
   "mimetype": "text/x-python",
   "name": "python",
   "nbconvert_exporter": "python",
   "pygments_lexer": "ipython3",
   "version": "3.8.2-final"
  },
  "orig_nbformat": 2,
  "kernelspec": {
   "name": "python38264bitanalysisconda560f4d48401e46e0aeb16a6b36b69737",
   "display_name": "Python 3.8.2 64-bit ('analysis': conda)"
  }
 },
 "nbformat": 4,
 "nbformat_minor": 2
}